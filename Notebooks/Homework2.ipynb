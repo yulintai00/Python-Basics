{
 "cells": [
  {
   "cell_type": "code",
   "execution_count": 1,
   "metadata": {
    "collapsed": true,
    "deletable": false,
    "editable": false,
    "nbgrader": {
     "grade": false,
     "locked": true,
     "solution": false
    }
   },
   "outputs": [],
   "source": [
    "# Run this cell so that the necessary packages are imported. \n",
    "\n",
    "from scipy import stats\n",
    "import pandas as pd\n",
    "import numpy as np\n",
    "import matplotlib.pyplot as plt\n",
    "import scipy.stats as st \n",
    "np.random.seed(0) # fix the seed of the random number generator to simplify testing."
   ]
  },
  {
   "cell_type": "markdown",
   "metadata": {
    "deletable": false,
    "editable": false,
    "nbgrader": {
     "grade": false,
     "locked": true,
     "solution": false
    }
   },
   "source": [
    "For the questions in which you are asked to state the hypothesis or provide some description, please use the space provided in those cells to write your answers as comments, that is, by starting each line with a '#'. "
   ]
  },
  {
   "cell_type": "markdown",
   "metadata": {
    "deletable": false,
    "editable": false,
    "nbgrader": {
     "grade": false,
     "locked": true,
     "solution": false
    }
   },
   "source": [
    "# Hypothesis Testing\n",
    "\n",
    "For this homework, use the stats module in the python scipy library."
   ]
  },
  {
   "cell_type": "markdown",
   "metadata": {
    "deletable": false,
    "editable": false,
    "nbgrader": {
     "grade": false,
     "locked": true,
     "solution": false
    }
   },
   "source": [
    "## Q1: One sample two-sided t-test"
   ]
  },
  {
   "cell_type": "markdown",
   "metadata": {
    "deletable": false,
    "editable": false,
    "nbgrader": {
     "grade": false,
     "locked": true,
     "solution": false
    }
   },
   "source": [
    "Read in data from the file \"brain_size_features_demo.csv\". The file contains a header row.\n",
    "\n",
    "Consider the following hypothesis about the attribute \"VIQ\":\n",
    "H0: mean(VIQ)  = 107\n",
    "H1: mean(VIQ) != 107\n",
    "\n",
    "Write a method that performs a TWO-sided t-test to test the above hypothesis, using the specified alpha as the significance threshold. Return the p-value and the resulting decision (i.e., accept/reject)."
   ]
  },
  {
   "cell_type": "code",
   "execution_count": 3,
   "metadata": {
    "nbgrader": {
     "grade": false,
     "grade_id": "Q1",
     "locked": false,
     "points": "",
     "solution": false
    }
   },
   "outputs": [
    {
     "data": {
      "text/plain": [
       "(0.1761817022684744, 'accept')"
      ]
     },
     "execution_count": 3,
     "metadata": {},
     "output_type": "execute_result"
    }
   ],
   "source": [
    "# one_sample_two_sided_t_test(filename) takes as input a csv file to read the data from, \n",
    "# and returns a tuple with:\n",
    "# (1) the first element as the p value returned from the t-test, and \n",
    "# (2) the second element as a string which returns one of two values: \"accept\" or \"reject\", \n",
    "# indicating whether the hypothesis, using the specified alpha, is accepted or rejected.\n",
    "\n",
    "\n",
    "attributeName = 'VIQ'\n",
    "\n",
    "def one_sample_two_sided_t_test(filename, alpha):\n",
    "    l=[]\n",
    "    df=pd.read_csv(filename)\n",
    "    p=st.ttest_1samp(df[attributeName], 107, nan_policy='omit')\n",
    "    l.append(p[1])\n",
    "    if p[1]>alpha:\n",
    "        r='accept'\n",
    "    else:\n",
    "        r='reject'\n",
    "    l.append(r)\n",
    "    return(tuple(l))\n",
    "    \n",
    "    \n",
    "    ###\n",
    "    ### YOUR CODE HERE\n",
    "    ###\n",
    "    \n",
    "# For example,\n",
    "one_sample_two_sided_t_test('brain_size_features_demo.csv', 0.10) # -> (0.1761817022684744, 'accept')\n"
   ]
  },
  {
   "cell_type": "code",
   "execution_count": 4,
   "metadata": {
    "collapsed": true,
    "deletable": false,
    "editable": false,
    "nbgrader": {
     "grade": true,
     "grade_id": "Q1:test1",
     "locked": true,
     "points": "1",
     "solution": false
    }
   },
   "outputs": [],
   "source": [
    "###\n",
    "### AUTOGRADER TEST - DO NOT REMOVE\n",
    "###\n"
   ]
  },
  {
   "cell_type": "code",
   "execution_count": 5,
   "metadata": {
    "collapsed": true,
    "deletable": false,
    "editable": false,
    "nbgrader": {
     "grade": true,
     "grade_id": "Q1:test2",
     "locked": true,
     "points": "1",
     "solution": false
    }
   },
   "outputs": [],
   "source": [
    "###\n",
    "### AUTOGRADER TEST - DO NOT REMOVE\n",
    "###\n"
   ]
  },
  {
   "cell_type": "markdown",
   "metadata": {
    "deletable": false,
    "editable": false,
    "nbgrader": {
     "grade": false,
     "locked": true,
     "solution": false
    }
   },
   "source": [
    "## Q2: One sample one-sided t-test"
   ]
  },
  {
   "cell_type": "markdown",
   "metadata": {
    "deletable": false,
    "editable": false,
    "nbgrader": {
     "grade": false,
     "locked": true,
     "solution": false
    }
   },
   "source": [
    "Read in data from the file \"brain_size_features_demo.csv\". The file contains a header row.\n",
    "\n",
    "Consider the following hypothesis about the attribute \"VIQ\":\n",
    "H0: mean(VIQ) <= 107\n",
    "H1: mean(VIQ) > 107\n",
    "\n",
    "Write a method that performs a ONE-sided t-test to test the above hypothesis, using the specified alpha as the significance threshold. Return the p-value and the resulting decision (i.e., accept/reject)."
   ]
  },
  {
   "cell_type": "code",
   "execution_count": 6,
   "metadata": {},
   "outputs": [
    {
     "data": {
      "text/plain": [
       "(0.0880908511342372, 'reject')"
      ]
     },
     "execution_count": 6,
     "metadata": {},
     "output_type": "execute_result"
    }
   ],
   "source": [
    "# one_sample_one_sided_t_test(filename) takes as input a csv file to read the data from, \n",
    "# and returns a tuple with:\n",
    "# (1) the first element as the p value returned from the t-test, and \n",
    "# (2) the second element as a string which returns one of two values: \"accept\" or \"reject\", \n",
    "# indicating whether the hypothesis, using the specified alpha, is accepted or rejected.\n",
    "\n",
    "\n",
    "attributeName = 'VIQ'\n",
    "\n",
    "def one_sample_one_sided_t_test(filename, alpha):\n",
    "    l=[]\n",
    "    df=pd.read_csv(filename)\n",
    "    p=st.ttest_1samp(df[attributeName], 107, nan_policy='omit')\n",
    "    l.append(p[1]/2)\n",
    "    if (p[1]/2)>alpha:\n",
    "        r='accept'\n",
    "    else:\n",
    "        r='reject'\n",
    "    l.append(r)\n",
    "    return(tuple(l))\n",
    "\n",
    "    ###\n",
    "    ### YOUR CODE HERE\n",
    "    ###\n",
    "    \n",
    "# For example,\n",
    "one_sample_one_sided_t_test('brain_size_features_demo.csv', 0.10) # -> (0.0880908511342372, 'reject')\n"
   ]
  },
  {
   "cell_type": "code",
   "execution_count": 7,
   "metadata": {
    "collapsed": true,
    "deletable": false,
    "editable": false,
    "nbgrader": {
     "grade": true,
     "grade_id": "Q2:test1",
     "locked": true,
     "points": "1",
     "solution": false
    }
   },
   "outputs": [],
   "source": [
    "###\n",
    "### AUTOGRADER TEST - DO NOT REMOVE\n",
    "###\n"
   ]
  },
  {
   "cell_type": "code",
   "execution_count": 8,
   "metadata": {
    "collapsed": true,
    "deletable": false,
    "editable": false,
    "nbgrader": {
     "grade": true,
     "grade_id": "Q2:test2",
     "locked": true,
     "points": "1",
     "solution": false
    }
   },
   "outputs": [],
   "source": [
    "###\n",
    "### AUTOGRADER TEST - DO NOT REMOVE\n",
    "###\n"
   ]
  },
  {
   "cell_type": "markdown",
   "metadata": {
    "deletable": false,
    "editable": false,
    "nbgrader": {
     "grade": false,
     "locked": true,
     "solution": false
    }
   },
   "source": [
    "## Q3: Two sample unpaired t-test"
   ]
  },
  {
   "cell_type": "markdown",
   "metadata": {
    "deletable": false,
    "editable": false,
    "nbgrader": {
     "grade": false,
     "locked": true,
     "solution": false
    }
   },
   "source": [
    "Read in data from the file \"brain_size_features_demo.csv\". The file contains a header row.\n",
    "\n",
    "Consider the following hypothesis about the attribute \"VIQ\":\n",
    "H0: mean(Female.VIQ)  = mean(Male.VIQ)\n",
    "H1: mean(Female.VIQ) != mean(Male.VIQ)\n",
    "\n",
    "Write a method that performs a TWO-sample UNPAIRED t-test to test the above hypothesis (that VIQ varies with the value of 'Gender'), using the specified alpha as the significance threshold. Return the p-value and the resulting decision (i.e., accept/reject)."
   ]
  },
  {
   "cell_type": "code",
   "execution_count": 9,
   "metadata": {},
   "outputs": [
    {
     "data": {
      "text/plain": [
       "(0.4550660394858371, 'accept')"
      ]
     },
     "execution_count": 9,
     "metadata": {},
     "output_type": "execute_result"
    }
   ],
   "source": [
    "# two_sample_unpaired_t_test(filename) takes as input a csv file to read the data from, \n",
    "# and returns a tuple with:\n",
    "# (1) the first element as the p value returned from the t-test, and \n",
    "# (2) the second element as a string which returns one of two values: \"accept\" or \"reject\", \n",
    "# indicating whether the hypothesis, using the specified alpha, is accepted or rejected.\n",
    "\n",
    "attributeName = 'VIQ'\n",
    "\n",
    "def two_sample_unpaired_t_test(filename, alpha):\n",
    "    l=[]\n",
    "    df=pd.read_csv(filename)\n",
    "    d1=df[df.Gender=='Female']\n",
    "    d2=df[df.Gender=='Male']\n",
    "    p=st.ttest_ind(d1.VIQ, d2.VIQ, nan_policy='omit')\n",
    "    l.append(p[1])\n",
    "    if (p[1])>alpha:\n",
    "        r='accept'\n",
    "    else:\n",
    "        r='reject'\n",
    "    l.append(r)\n",
    "    return(tuple(l))\n",
    "    \n",
    "\n",
    "    ###\n",
    "    ### YOUR CODE HERE\n",
    "    ###\n",
    "    \n",
    "# For example,\n",
    "two_sample_unpaired_t_test('brain_size_features_demo.csv', 0.10) # -> (0.4550660394858371, 'accept')\n"
   ]
  },
  {
   "cell_type": "code",
   "execution_count": 10,
   "metadata": {
    "collapsed": true,
    "deletable": false,
    "editable": false,
    "nbgrader": {
     "grade": true,
     "grade_id": "Q3:test1",
     "locked": true,
     "points": "1",
     "solution": false
    }
   },
   "outputs": [],
   "source": [
    "###\n",
    "### AUTOGRADER TEST - DO NOT REMOVE\n",
    "###\n"
   ]
  },
  {
   "cell_type": "code",
   "execution_count": 11,
   "metadata": {
    "collapsed": true,
    "deletable": false,
    "editable": false,
    "nbgrader": {
     "grade": true,
     "grade_id": "Q3:test2",
     "locked": true,
     "points": "1",
     "solution": false
    }
   },
   "outputs": [],
   "source": [
    "###\n",
    "### AUTOGRADER TEST - DO NOT REMOVE\n",
    "###\n"
   ]
  },
  {
   "cell_type": "markdown",
   "metadata": {
    "deletable": false,
    "editable": false,
    "nbgrader": {
     "grade": false,
     "locked": true,
     "solution": false
    }
   },
   "source": [
    "## Q4: Two sample paired t-test"
   ]
  },
  {
   "cell_type": "markdown",
   "metadata": {
    "deletable": false,
    "editable": false,
    "nbgrader": {
     "grade": false,
     "locked": true,
     "solution": false
    }
   },
   "source": [
    "Read in data from the file \"brain_size_features_demo.csv\". The file contains a header row.\n",
    "\n",
    "Consider the following hypothesis about the attributes \"FSIQ\" and \"PIQ\":\n",
    "H0: mean(FSIQ)  = mean(PIQ)\n",
    "H1: mean(FSIQ) != mean(PIQ)\n",
    "\n",
    "Write a method that performs a TWO-sample PAIRED t-test to test the above hypothesis, using the specified alpha as the significance threshold. The method should also calculate the results of an UNPAIRED t-test for comparison. Return the p-value and the resulting decision (i.e., accept/reject) of both tests."
   ]
  },
  {
   "cell_type": "code",
   "execution_count": 12,
   "metadata": {},
   "outputs": [
    {
     "data": {
      "text/plain": [
       "(0.11694971066066272, 'accept', 0.6792987985615055, 'accept')"
      ]
     },
     "execution_count": 12,
     "metadata": {},
     "output_type": "execute_result"
    }
   ],
   "source": [
    "# two_sample_paired_t_test(filename) takes as input a csv file to read the data from, \n",
    "# and returns a tuple with:\n",
    "# (1) the first element as the p value returned from the PAIRED t-test, and \n",
    "# (2) the second element as a string which returns one of two values: \"accept\" or \"reject\", \n",
    "# indicating whether the hypothesis, using the specified alpha, is accepted or rejected.\n",
    "# (3) the third element as the p value returned from the UNPAIRED t-test, and \n",
    "# (4) the fourth element as a string which returns one of two values: \"accept\" or \"reject\", \n",
    "# indicating whether the hypothesis, using the specified alpha, is accepted or rejected.\n",
    "\n",
    "attribute1 = 'FSIQ'\n",
    "attribute2 = 'PIQ'\n",
    "\n",
    "def two_sample_paired_t_test(filename, alpha):\n",
    "    \n",
    "    l=[]\n",
    "    df=pd.read_csv(filename)\n",
    "    d1=df['FSIQ']\n",
    "    d2=df['PIQ']\n",
    "    p=st.ttest_rel(d1, d2, nan_policy='omit') #paired\n",
    "    l.append(p[1])\n",
    "    if (p[1])>alpha:\n",
    "        r='accept'\n",
    "    else:\n",
    "        r='reject'\n",
    "    l.append(r)\n",
    "    p1=st.ttest_ind(d1, d2, nan_policy='omit') #unpaired\n",
    "    l.append(p1[1])\n",
    "    if (p1[1])>alpha:\n",
    "        r1='accept'\n",
    "    else:\n",
    "        r1='reject'\n",
    "    l.append(r1)\n",
    "    return(tuple(l))\n",
    "\n",
    "    ###\n",
    "    ### YOUR CODE HERE\n",
    "    ###\n",
    "    \n",
    "# For example,\n",
    "two_sample_paired_t_test('brain_size_features_demo.csv', 0.10)\n",
    "# -> (0.11694971066066272, 'accept', 0.6792987985615055, 'accept')"
   ]
  },
  {
   "cell_type": "code",
   "execution_count": 13,
   "metadata": {
    "collapsed": true,
    "deletable": false,
    "editable": false,
    "nbgrader": {
     "grade": true,
     "grade_id": "Q4:test1",
     "locked": true,
     "points": "1",
     "solution": false
    }
   },
   "outputs": [],
   "source": [
    "###\n",
    "### AUTOGRADER TEST - DO NOT REMOVE\n",
    "###\n"
   ]
  },
  {
   "cell_type": "code",
   "execution_count": 14,
   "metadata": {
    "collapsed": true,
    "deletable": false,
    "editable": false,
    "nbgrader": {
     "grade": true,
     "grade_id": "Q4:test2",
     "locked": true,
     "points": "1",
     "solution": false
    }
   },
   "outputs": [],
   "source": [
    "###\n",
    "### AUTOGRADER TEST - DO NOT REMOVE\n",
    "###\n"
   ]
  },
  {
   "cell_type": "markdown",
   "metadata": {
    "deletable": false,
    "editable": false,
    "nbgrader": {
     "grade": false,
     "locked": true,
     "solution": false
    }
   },
   "source": [
    "## Q5: Data visualization (1pt)"
   ]
  },
  {
   "cell_type": "markdown",
   "metadata": {
    "deletable": false,
    "editable": false,
    "nbgrader": {
     "grade": false,
     "locked": true,
     "solution": false
    }
   },
   "source": [
    "Read data in from the file \"iris.csv\". The file has a header row. The first four columns are continous features for sepal/petal length/width. The fifth column is the class label indicating the type of iris.\n",
    "\n",
    "Plot a boxplot to show the distribution of the second variable (sepal width) for each value of the fifth variable (class). "
   ]
  },
  {
   "cell_type": "code",
   "execution_count": 15,
   "metadata": {},
   "outputs": [
    {
     "data": {
      "image/png": "[encoded data removed]",
      "text/plain": [
       "<Figure size 432x288 with 4 Axes>"
      ]
     },
     "metadata": {},
     "output_type": "display_data"
    }
   ],
   "source": [
    "df=pd.read_csv('iris.csv')\n",
    "#df.head()\n",
    "df.groupby(\"Class\").boxplot(column='Sepal Width')\n",
    "plt.show()"
   ]
  },
  {
   "cell_type": "code",
   "execution_count": 16,
   "metadata": {},
   "outputs": [
    {
     "data": {
      "text/html": [
       "<div>\n",
       "<style scoped>\n",
       "    .dataframe tbody tr th:only-of-type {\n",
       "        vertical-align: middle;\n",
       "    }\n",
       "\n",
       "    .dataframe tbody tr th {\n",
       "        vertical-align: top;\n",
       "    }\n",
       "\n",
       "    .dataframe thead th {\n",
       "        text-align: right;\n",
       "    }\n",
       "</style>\n",
       "<table border=\"1\" class=\"dataframe\">\n",
       "  <thead>\n",
       "    <tr style=\"text-align: right;\">\n",
       "      <th></th>\n",
       "      <th>Sepal Length</th>\n",
       "      <th>Sepal Width</th>\n",
       "      <th>Petal Length</th>\n",
       "      <th>Petal Width</th>\n",
       "      <th>Class</th>\n",
       "    </tr>\n",
       "  </thead>\n",
       "  <tbody>\n",
       "    <tr>\n",
       "      <th>0</th>\n",
       "      <td>5.1</td>\n",
       "      <td>3.5</td>\n",
       "      <td>1.4</td>\n",
       "      <td>0.2</td>\n",
       "      <td>Iris-setosa</td>\n",
       "    </tr>\n",
       "    <tr>\n",
       "      <th>1</th>\n",
       "      <td>4.9</td>\n",
       "      <td>3.0</td>\n",
       "      <td>1.4</td>\n",
       "      <td>0.2</td>\n",
       "      <td>Iris-setosa</td>\n",
       "    </tr>\n",
       "    <tr>\n",
       "      <th>2</th>\n",
       "      <td>4.7</td>\n",
       "      <td>3.2</td>\n",
       "      <td>1.3</td>\n",
       "      <td>0.2</td>\n",
       "      <td>Iris-setosa</td>\n",
       "    </tr>\n",
       "    <tr>\n",
       "      <th>3</th>\n",
       "      <td>4.6</td>\n",
       "      <td>3.1</td>\n",
       "      <td>1.5</td>\n",
       "      <td>0.2</td>\n",
       "      <td>Iris-setosa</td>\n",
       "    </tr>\n",
       "    <tr>\n",
       "      <th>4</th>\n",
       "      <td>5.0</td>\n",
       "      <td>3.6</td>\n",
       "      <td>1.4</td>\n",
       "      <td>0.2</td>\n",
       "      <td>Iris-setosa</td>\n",
       "    </tr>\n",
       "  </tbody>\n",
       "</table>\n",
       "</div>"
      ],
      "text/plain": [
       "   Sepal Length  Sepal Width  Petal Length  Petal Width        Class\n",
       "0           5.1          3.5           1.4          0.2  Iris-setosa\n",
       "1           4.9          3.0           1.4          0.2  Iris-setosa\n",
       "2           4.7          3.2           1.3          0.2  Iris-setosa\n",
       "3           4.6          3.1           1.5          0.2  Iris-setosa\n",
       "4           5.0          3.6           1.4          0.2  Iris-setosa"
      ]
     },
     "execution_count": 16,
     "metadata": {},
     "output_type": "execute_result"
    }
   ],
   "source": [
    "df=pd.read_csv('iris.csv')\n",
    "df.head()"
   ]
  },
  {
   "cell_type": "markdown",
   "metadata": {
    "deletable": false,
    "editable": false,
    "nbgrader": {
     "grade": false,
     "locked": true,
     "solution": false
    }
   },
   "source": [
    "## Q6: Formulate hypotheses (1pt)"
   ]
  },
  {
   "cell_type": "markdown",
   "metadata": {
    "deletable": false,
    "editable": false,
    "nbgrader": {
     "grade": false,
     "locked": true,
     "solution": false
    }
   },
   "source": [
    "Based on inspecting the box plot visually, formulate two hypotheses about how sepal width differs across the class values. State one hypothesis for class 1 vs 3 (Iris-setsosa vs. Iris-virginica) and one hypothesis for class 2 vs 3 (Iris-versicolor vs. Iris-virginica)."
   ]
  },
  {
   "cell_type": "code",
   "execution_count": 17,
   "metadata": {},
   "outputs": [
    {
     "ename": "SyntaxError",
     "evalue": "invalid syntax (<ipython-input-17-bd74b8f8c391>, line 4)",
     "output_type": "error",
     "traceback": [
      "\u001b[0;36m  File \u001b[0;32m\"<ipython-input-17-bd74b8f8c391>\"\u001b[0;36m, line \u001b[0;32m4\u001b[0m\n\u001b[0;31m    H0: mean(Iris-setosa) = mean(Iris-virginica)\u001b[0m\n\u001b[0m      ^\u001b[0m\n\u001b[0;31mSyntaxError\u001b[0m\u001b[0;31m:\u001b[0m invalid syntax\n"
     ]
    }
   ],
   "source": [
    "# State H0 and H1 for mean(Iris-setosa) vs. mean (Iris-virginica)\n",
    "\n",
    "###\n",
    "H0: mean(Iris-setosa) = mean(Iris-virginica) \n",
    "H1: mean(Iris-setosa) != mean(Iris-virginica)\n",
    "###\n"
   ]
  },
  {
   "cell_type": "code",
   "execution_count": null,
   "metadata": {
    "collapsed": true
   },
   "outputs": [],
   "source": [
    "# State H0 and H1 for mean(Iris-versicolor) vs. mean (Iris-virginica)\n",
    "\n",
    "###\n",
    "H0: mean(Iris-versicolor) = mean(Iris-virginica) \n",
    "H1: mean(Iris-setosa) != mean(Iris-virginica)\n",
    "###\n"
   ]
  },
  {
   "cell_type": "markdown",
   "metadata": {
    "deletable": false,
    "editable": false,
    "nbgrader": {
     "grade": false,
     "locked": true,
     "solution": false
    }
   },
   "source": [
    "## Q7: Test hypotheses (2pts)"
   ]
  },
  {
   "cell_type": "markdown",
   "metadata": {
    "deletable": false,
    "editable": false,
    "nbgrader": {
     "grade": false,
     "locked": true,
     "solution": false
    }
   },
   "source": [
    "(a) Perform a t-test to test your hypothesis above for class 1 vs 3 (Iris-setsosa vs. Iris-virginica) with alpha=0.05. Output (Print) the p-value and the resulting decision (i.e., accept/reject) of the test as a tuple, similar to the questions earlier."
   ]
  },
  {
   "cell_type": "code",
   "execution_count": null,
   "metadata": {
    "collapsed": true
   },
   "outputs": [],
   "source": [
    "l=[]\n",
    "df=pd.read_csv('iris.csv')\n",
    "d1 = df[df.Class=='Iris-setosa']\n",
    "d1 = d1['Sepal Width']\n",
    "d2 = df[df.Class=='Iris-virginica']\n",
    "d2 = d2['Sepal Width']\n",
    "#print(d1)\n",
    "p=st.ttest_ind(d1, d2, nan_policy='omit')\n",
    "l.append(p[1])\n",
    "\n",
    "if (p[1])>0.05:\n",
    "    r='accept'\n",
    "else:\n",
    "    r='reject'\n",
    "l.append(r)\n",
    "\n",
    "print(tuple(l))"
   ]
  },
  {
   "cell_type": "markdown",
   "metadata": {},
   "source": [
    "(b) Perform a t-test to test your hypothesis above for class 2 vs 3 (Iris-versicolor vs. Iris-virginica) with alpha=0.05. Output (Print) the p-value and the resulting decision (i.e., accept/reject) of the test as a tuple, similar to the questions earlier."
   ]
  },
  {
   "cell_type": "code",
   "execution_count": null,
   "metadata": {
    "collapsed": true
   },
   "outputs": [],
   "source": [
    "l=[]\n",
    "df=pd.read_csv('iris.csv')\n",
    "d1 = df[df.Class=='Iris-versicolor']\n",
    "d1 = d1['Sepal Width']\n",
    "d2 = df[df.Class=='Iris-virginica']\n",
    "d2 = d2['Sepal Width']\n",
    "#print(d1)\n",
    "p=st.ttest_ind(d1, d2, nan_policy='omit')\n",
    "l.append(p[1])\n",
    "\n",
    "if (p[1])>0.05:\n",
    "    r='accept'\n",
    "else:\n",
    "    r='reject'\n",
    "l.append(r)\n",
    "\n",
    "print(tuple(l))\n"
   ]
  },
  {
   "cell_type": "markdown",
   "metadata": {
    "deletable": false,
    "editable": false,
    "nbgrader": {
     "grade": false,
     "locked": true,
     "solution": false
    }
   },
   "source": [
    "## Q8: Impact of sample size (2pts)"
   ]
  },
  {
   "cell_type": "markdown",
   "metadata": {
    "deletable": false,
    "editable": false,
    "nbgrader": {
     "grade": false,
     "locked": true,
     "solution": false
    }
   },
   "source": [
    "(a) Construct a stratified sample of the iris data, where you randomly sample 10 examples from each class (30 examples total). Repeat Q5 (box plot)."
   ]
  },
  {
   "cell_type": "code",
   "execution_count": null,
   "metadata": {
    "collapsed": true
   },
   "outputs": [],
   "source": [
    "#stratified data\n",
    "df=pd.read_csv('iris.csv')\n",
    "d1 = df[df.Class=='Iris-setosa']\n",
    "d2 = df[df.Class=='Iris-versicolor']\n",
    "d3 = df[df.Class=='Iris-virginica']\n",
    "\n",
    "#random sample 10 from each data \n",
    "numSamples = 10\n",
    "d1S = d1.sample(numSamples)\n",
    "d2S = d2.sample(numSamples)\n",
    "d3S = d3.sample(numSamples)\n",
    "\n",
    "#append the samples\n",
    "df_S=d1S.append(d2S)\n",
    "df_S=df_S.append(d3S)\n",
    "\n",
    "#plot boxplot for the sample\n",
    "df.groupby(\"Class\").boxplot(column='Sepal Width')\n",
    "plt.show()"
   ]
  },
  {
   "cell_type": "markdown",
   "metadata": {
    "deletable": false,
    "editable": false,
    "nbgrader": {
     "grade": false,
     "locked": true,
     "solution": false
    }
   },
   "source": [
    "(b) Repeat Q7a on the sampled data.   "
   ]
  },
  {
   "cell_type": "code",
   "execution_count": null,
   "metadata": {
    "collapsed": true
   },
   "outputs": [],
   "source": [
    "#stratified data\n",
    "df=pd.read_csv('iris.csv')\n",
    "d1 = df[df.Class=='Iris-setosa']\n",
    "d2 = df[df.Class=='Iris-versicolor']\n",
    "d3 = df[df.Class=='Iris-virginica']\n",
    "\n",
    "#random sample 10 from each data \n",
    "numSamples = 10\n",
    "d1S = d1.sample(numSamples)\n",
    "d2S = d2.sample(numSamples)\n",
    "d3S = d3.sample(numSamples)\n",
    "\n",
    "#append the samples\n",
    "df_S=d1S.append(d2S)\n",
    "df_S=df_S.append(d3S)\n",
    "\n",
    "\n",
    "l=[]\n",
    "d1 = df_S[df_S.Class=='Iris-setosa']\n",
    "d1 = d1['Sepal Width']\n",
    "d2 = df_S[df_S.Class=='Iris-versicolor']\n",
    "d2 = d2['Sepal Width']\n",
    "p=st.ttest_ind(d1, d2, nan_policy='omit')\n",
    "l.append(p[1])\n",
    "\n",
    "if (p[1])>0.05:\n",
    "    r='accept'\n",
    "else:\n",
    "    r='reject'\n",
    "l.append(r)\n",
    "\n",
    "print(tuple(l))\n"
   ]
  },
  {
   "cell_type": "markdown",
   "metadata": {
    "deletable": false,
    "editable": false,
    "nbgrader": {
     "grade": false,
     "locked": true,
     "solution": false
    }
   },
   "source": [
    "(c) Repeat Q7b on the sampled data.   "
   ]
  },
  {
   "cell_type": "code",
   "execution_count": null,
   "metadata": {
    "collapsed": true
   },
   "outputs": [],
   "source": [
    "#stratified data\n",
    "df=pd.read_csv('iris.csv')\n",
    "d1 = df[df.Class=='Iris-setosa']\n",
    "d2 = df[df.Class=='Iris-versicolor']\n",
    "d3 = df[df.Class=='Iris-virginica']\n",
    "\n",
    "#random sample 10 from each data \n",
    "numSamples = 10\n",
    "d1S = d1.sample(numSamples)\n",
    "d2S = d2.sample(numSamples)\n",
    "d3S = d3.sample(numSamples)\n",
    "\n",
    "#append the samples\n",
    "df_S=d1S.append(d2S)\n",
    "df_S=df_S.append(d3S)\n",
    "\n",
    "\n",
    "l=[]\n",
    "d1 = df_S[df_S.Class=='Iris-versicolor']\n",
    "d1 = d1['Sepal Width']\n",
    "d2 = df_S[df_S.Class=='Iris-virginica']\n",
    "d2 = d2['Sepal Width']\n",
    "p=st.ttest_ind(d1, d2, nan_policy='omit')\n",
    "l.append(p[1])\n",
    "\n",
    "if (p[1])>0.05:\n",
    "    r='accept'\n",
    "else:\n",
    "    r='reject'\n",
    "l.append(r)\n",
    "\n",
    "print(tuple(l))"
   ]
  },
  {
   "cell_type": "markdown",
   "metadata": {
    "deletable": false,
    "editable": false,
    "nbgrader": {
     "grade": false,
     "locked": true,
     "solution": false
    }
   },
   "source": [
    "## Q9: Chi-Square test of independence"
   ]
  },
  {
   "cell_type": "markdown",
   "metadata": {
    "deletable": false,
    "editable": false,
    "nbgrader": {
     "grade": false,
     "locked": true,
     "solution": false
    }
   },
   "source": [
    "Consider the data in the file 'titanic.csv', that contains information about Titanic passengers such as Pclass, Name, Sex, Age, Siblings/Spouses Aboard, Parents/Children Aboard, Fare. There is also an attribute 'Survived' that records whether the person survived or not.\n",
    "\n",
    "Consider the following hypothesis about an arbitrary passenger attribute X:\n",
    "H0: There is NO association between feature X and 'Survived'\n",
    "H1: There is an association between feature X and 'Survived'\n",
    "\n",
    "Write a method that performs a chi-square test to test the above hypothesis, using the specified column as attribute X, and the specified alpha as the significance threshold. Return the p-value and the resulting decision (i.e., accept/reject)."
   ]
  },
  {
   "cell_type": "code",
   "execution_count": 34,
   "metadata": {},
   "outputs": [
    {
     "name": "stdout",
     "output_type": "stream",
     "text": [
      "(0.9276737171008429, 'accept')\n"
     ]
    }
   ],
   "source": [
    "# chi_square_test_ind(filename) takes as input a csv file to read the data from, \n",
    "# and the column X as col_X to test its association with the feature 'Survived', \n",
    "# and returns a tuple with:\n",
    "# (1) the first element as the p value returned from the chi-square, and \n",
    "# (2) the second element as a string which returns one of two values: \"accept\" or \"reject\", \n",
    "# indicating whether the hypothesis, using the specified alpha, is accepted or rejected.\n",
    "\n",
    "def chi_square_test_ind(filename, col_X, alpha):\n",
    "    l=[]\n",
    "    pd.read_csv(filename)\n",
    "    col_X_Thresh=df[col_X].median()\n",
    "    survThresh = df.Survived.median()\n",
    "    contTab = pd.crosstab(df[col_X] > col_X_Thresh, df.Survived > survThresh)\n",
    "    p=st.chi2_contingency(contTab)\n",
    "    l.append(p[1])\n",
    "    if p[1]>alpha:\n",
    "        r='accept'\n",
    "    else:\n",
    "        r='reject'\n",
    "    l.append(r)\n",
    "    print(tuple(l))\n",
    "    \n",
    "    \n",
    "# For example,\n",
    "chi_square_test_ind('titanic_demo.csv', 'Age', 0.05) # -> (0.16338612253228635, 'accept')"
   ]
  },
  {
   "cell_type": "code",
   "execution_count": 3,
   "metadata": {},
   "outputs": [
    {
     "name": "stdout",
     "output_type": "stream",
     "text": [
      "(0.008239565543570136, 0.9276737171008429, 1, array([[238.88772846, 229.11227154],\n",
      "       [152.11227154, 145.88772846]]))\n"
     ]
    }
   ],
   "source": [
    "df=pd.read_csv('titanic_demo.csv')\n",
    "df.head()\n",
    "\n",
    "# compute contingency table\n",
    "ageThresh = df.Age.median()\n",
    "survThresh = df.Survived.median()\n",
    "contTab = pd.crosstab(df.Survived > survThresh, df.Age > ageThresh)\n",
    "contTab\n",
    "\n",
    "# calculate chi-square test\n",
    "l=[]\n",
    "p=st.chi2_contingency(contTab)\n",
    "#l.append(p[1])\n",
    "print(p)"
   ]
  },
  {
   "cell_type": "code",
   "execution_count": 35,
   "metadata": {},
   "outputs": [
    {
     "data": {
      "text/plain": [
       "0.01647913108714027"
      ]
     },
     "execution_count": 35,
     "metadata": {},
     "output_type": "execute_result"
    }
   ],
   "source": [
    "0.008239565543570136*2"
   ]
  },
  {
   "cell_type": "code",
   "execution_count": null,
   "metadata": {
    "collapsed": true,
    "deletable": false,
    "editable": false,
    "nbgrader": {
     "grade": true,
     "grade_id": "Q9:test_1",
     "locked": true,
     "points": "1",
     "solution": false
    }
   },
   "outputs": [],
   "source": [
    "###\n",
    "### AUTOGRADER TEST - DO NOT REMOVE\n",
    "###\n"
   ]
  },
  {
   "cell_type": "code",
   "execution_count": null,
   "metadata": {
    "collapsed": true,
    "deletable": false,
    "editable": false,
    "nbgrader": {
     "grade": true,
     "grade_id": "Q9:test_2",
     "locked": true,
     "points": "1",
     "solution": false
    }
   },
   "outputs": [],
   "source": [
    "###\n",
    "### AUTOGRADER TEST - DO NOT REMOVE\n",
    "###\n"
   ]
  }
 ],
 "metadata": {
  "kernelspec": {
   "display_name": "Python 3.5",
   "language": "python",
   "name": "python35"
  },
  "language_info": {
   "codemirror_mode": {
    "name": "ipython",
    "version": 3
   },
   "file_extension": ".py",
   "mimetype": "text/x-python",
   "name": "python",
   "nbconvert_exporter": "python",
   "pygments_lexer": "ipython3",
   "version": "3.5.2"
  }
 },
 "nbformat": 4,
 "nbformat_minor": 2
}
