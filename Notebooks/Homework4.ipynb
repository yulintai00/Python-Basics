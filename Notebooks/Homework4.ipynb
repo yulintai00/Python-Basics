{
 "cells": [
  {
   "cell_type": "code",
   "execution_count": 4,
   "metadata": {
    "collapsed": true,
    "deletable": false,
    "editable": false,
    "nbgrader": {
     "grade": false,
     "locked": true,
     "solution": false
    }
   },
   "outputs": [],
   "source": [
    "import numpy as np\n",
    "import pandas as pd\n",
    "import matplotlib.pyplot as plt \n",
    "import math\n",
    "import scipy as sp\n",
    "from scipy import stats as scs\n",
    "from scipy.stats import chi2_contingency"
   ]
  },
  {
   "cell_type": "markdown",
   "metadata": {
    "deletable": false,
    "editable": false,
    "nbgrader": {
     "grade": false,
     "locked": true,
     "solution": false
    }
   },
   "source": [
    "Please note that for the questions involving random number generators or sampling, your answer might differ a little from those provided in the examples. For such questions, you should use the values in the examples as a reference and not try to match exactly with them. "
   ]
  },
  {
   "cell_type": "markdown",
   "metadata": {
    "deletable": false,
    "editable": false,
    "nbgrader": {
     "grade": false,
     "locked": true,
     "solution": false
    }
   },
   "source": [
    "## Q1 (2 pts)"
   ]
  },
  {
   "cell_type": "markdown",
   "metadata": {
    "deletable": false,
    "editable": false,
    "nbgrader": {
     "grade": false,
     "locked": true,
     "solution": false
    }
   },
   "source": [
    "(a) Consider the data in the file 'iris_imbalanced.csv'. It contains a column 'Class', which is the class label with three discrete values (0/1/2). Create a bar plot showing the number of examples for each class. "
   ]
  },
  {
   "cell_type": "code",
   "execution_count": 12,
   "metadata": {},
   "outputs": [
    {
     "name": "stdout",
     "output_type": "stream",
     "text": [
      "2    75\n",
      "1    50\n",
      "0    20\n",
      "Name: Class, dtype: int64\n"
     ]
    },
    {
     "data": {
      "image/png": "[encoded data removed]",
      "text/plain": [
       "<Figure size 432x288 with 1 Axes>"
      ]
     },
     "metadata": {},
     "output_type": "display_data"
    }
   ],
   "source": [
    "data = pd.read_csv('iris_imbalanced.csv')\n",
    "class_value = data['Class'].value_counts()\n",
    "print(class_value)\n",
    "class_value.plot(kind='bar', rot=0)\n",
    "plt.show()"
   ]
  },
  {
   "cell_type": "markdown",
   "metadata": {
    "deletable": false,
    "editable": false,
    "nbgrader": {
     "grade": false,
     "locked": true,
     "solution": false
    }
   },
   "source": [
    "(b) Write a method to analytically (i.e., using scipy.stats.norm.interval) calculate a confidence interval of the mean for the specified column."
   ]
  },
  {
   "cell_type": "code",
   "execution_count": 40,
   "metadata": {},
   "outputs": [
    {
     "data": {
      "text/plain": [
       "(2.97485548067057, 3.1161790020880513)"
      ]
     },
     "execution_count": 40,
     "metadata": {},
     "output_type": "execute_result"
    }
   ],
   "source": [
    "# calculateCI(filename, attribute, ciPercent) takes as input the filename to read in \n",
    "# data from, attribute (string) as the column, and CI percentage. Returns the \n",
    "# calculated CI as a tuple. \n",
    "#\n",
    "\n",
    "\n",
    "def calculateCI(filename, attribute, ciPercent):\n",
    "    \n",
    "    data = pd.read_csv(filename)\n",
    "    column = data[attribute].tolist()\n",
    "    mean, sigma = np.mean(column), np.std(column)\n",
    "    CI = scs.norm.interval(ciPercent, loc=mean, scale=sigma/np.sqrt(len(column)-1))\n",
    "    return(CI)\n",
    "    \n",
    "# For example,\n",
    "calculateCI('iris_imbalanced.csv', 'Sepal Width', 0.95)\n",
    "# -> (2.97485548067057, 3.1161790020880513)\n",
    "\n"
   ]
  },
  {
   "cell_type": "code",
   "execution_count": null,
   "metadata": {
    "collapsed": true,
    "deletable": false,
    "editable": false,
    "nbgrader": {
     "grade": true,
     "grade_id": "Q1b:test1",
     "locked": true,
     "points": "0.25",
     "solution": false
    }
   },
   "outputs": [],
   "source": [
    "###\n",
    "### AUTOGRADER TEST - DO NOT REMOVE\n",
    "###\n"
   ]
  },
  {
   "cell_type": "code",
   "execution_count": null,
   "metadata": {
    "collapsed": true,
    "deletable": false,
    "editable": false,
    "nbgrader": {
     "grade": true,
     "grade_id": "Q1b:test2",
     "locked": true,
     "points": "0.25",
     "solution": false
    }
   },
   "outputs": [],
   "source": [
    "###\n",
    "### AUTOGRADER TEST - DO NOT REMOVE\n",
    "###\n"
   ]
  },
  {
   "cell_type": "markdown",
   "metadata": {
    "deletable": false,
    "editable": false,
    "nbgrader": {
     "grade": false,
     "locked": true,
     "solution": false
    }
   },
   "source": [
    "(c) Write a method that uses bootstrap resampling to calculate a confidence interval of the mean for the specified column, using the specified number of trials. In other words, repeatedly sample with replacement (where the sample size id the length of column) and recalculate the mean, then compute the confidence interval from the empirical distribution of resampled means. "
   ]
  },
  {
   "cell_type": "code",
   "execution_count": 136,
   "metadata": {},
   "outputs": [
    {
     "data": {
      "text/plain": [
       "(3.0382769260937477, 3.054454108389011)"
      ]
     },
     "execution_count": 136,
     "metadata": {},
     "output_type": "execute_result"
    }
   ],
   "source": [
    "# calculateCIBootstrap(filename, attribute, ciPercent, numTrials) takes as input \n",
    "# the filename to read in data from, attribute (string) as the column, the CI \n",
    "# percentage, and number of trials for estimation. Returns the calculated CI as a tuple. \n",
    "#\n",
    "\n",
    "def calculateCIBootstrap(filename, attribute, ciPercent, numTrials):\n",
    "    \n",
    "    num_Trials = numTrials\n",
    "    data = pd.read_csv(filename)\n",
    "    dB = data[attribute]\n",
    "    numExample = len(dB)\n",
    "    dBmeans = []\n",
    "    for i in range(numTrials):\n",
    "        # sample with replacement\n",
    "        tmpB = data[attribute].sample(numExample,replace=True)\n",
    "        dBmeans.append(tmpB.mean())\n",
    "    mean, sigma = np.mean(dBmeans), np.std(dBmeans)\n",
    "    CI = scs.norm.interval(ciPercent, loc=mean, scale=sigma/np.sqrt(len(dBmeans)-1))\n",
    "    return(CI)\n",
    "\n",
    "# For example,\n",
    "calculateCIBootstrap('iris_imbalanced.csv', 'Sepal Width', 0.95, 100)\n",
    "# varies, but around -> (2.984189655172414, 3.1090689655172414)\n"
   ]
  },
  {
   "cell_type": "markdown",
   "metadata": {
    "deletable": false,
    "editable": false,
    "nbgrader": {
     "grade": false,
     "locked": true,
     "solution": false
    }
   },
   "source": [
    "(d) Now, repeat Q1c but instead of creating a boostrap resample with the same size as the dataset, only sample the specified number of examples. Explore the difference that sample size and number of trials makes on the estimated confidence interval."
   ]
  },
  {
   "cell_type": "code",
   "execution_count": 142,
   "metadata": {},
   "outputs": [
    {
     "data": {
      "text/plain": [
       "(3.0312779439046795, 3.0647220560953206)"
      ]
     },
     "execution_count": 142,
     "metadata": {},
     "output_type": "execute_result"
    }
   ],
   "source": [
    "# calculateCIBootstrapSize(filename, attribute, ciPercent, numTrials, sampleSize) takes \n",
    "# as input the filename to read in data from, attribute (string) as the column, the CI \n",
    "# percentage, number of trials for estimation, and sample size. Returns the calculated \n",
    "# CI as a tuple. \n",
    "#\n",
    "\n",
    "def calculateCIBootstrapSize(filename, attribute, ciPercent, numTrials, sampleSize):\n",
    "\n",
    "    \n",
    "    num_Trials = numTrials\n",
    "    data = pd.read_csv(filename)\n",
    "    dB = data[attribute]\n",
    "    numExample = len(dB)\n",
    "    dBmeans = []\n",
    "    for i in range(numTrials):\n",
    "        # sample with replacement\n",
    "        tmpB = data[attribute].sample(sampleSize,replace=True)\n",
    "        dBmeans.append(tmpB.mean())\n",
    "    mean, sigma = np.mean(dBmeans), np.std(dBmeans)\n",
    "    CI = scs.norm.interval(ciPercent, loc=mean, scale=sigma/np.sqrt(len(dBmeans)-1))\n",
    "    return(CI)\n",
    "    \n",
    "# For example,\n",
    "calculateCIBootstrapSize('iris_imbalanced.csv', 'Sepal Width', 0.95, 100, 25)\n",
    "# varies but around -> (2.8796, 3.2001999999999997)"
   ]
  },
  {
   "cell_type": "markdown",
   "metadata": {
    "deletable": false,
    "editable": false,
    "nbgrader": {
     "grade": false,
     "locked": true,
     "solution": false
    }
   },
   "source": [
    "## Q2 (3 pts)"
   ]
  },
  {
   "cell_type": "markdown",
   "metadata": {
    "deletable": false,
    "editable": false,
    "nbgrader": {
     "grade": false,
     "locked": true,
     "solution": false
    }
   },
   "source": [
    "(a) Consider the event of rolling a six-sided die. Randomly simulate this event 1000 times and plot a histogram of results for each number on the dice (use number of bins=6)."
   ]
  },
  {
   "cell_type": "code",
   "execution_count": 47,
   "metadata": {
    "scrolled": true
   },
   "outputs": [
    {
     "data": {
      "image/png": "[encoded data removed]",
      "text/plain": [
       "<Figure size 432x288 with 1 Axes>"
      ]
     },
     "metadata": {},
     "output_type": "display_data"
    }
   ],
   "source": [
    "import random\n",
    "\n",
    "\n",
    "diceList = [random.randint(1, 6) for _ in range(0, 1000)]\n",
    "\n",
    "DF = pd.DataFrame(diceList)[0]\n",
    "plt.hist(DF, bins=6)\n",
    "plt.show()\n"
   ]
  },
  {
   "cell_type": "markdown",
   "metadata": {
    "deletable": false,
    "editable": false,
    "nbgrader": {
     "grade": false,
     "locked": true,
     "solution": false
    }
   },
   "source": [
    "(b) Write a method to use the same random simulation and return the empirical probability of getting a value greater than or equal to the specified target value (e.g., >=5)."
   ]
  },
  {
   "cell_type": "code",
   "execution_count": 32,
   "metadata": {},
   "outputs": [
    {
     "data": {
      "text/plain": [
       "0.501"
      ]
     },
     "execution_count": 32,
     "metadata": {},
     "output_type": "execute_result"
    }
   ],
   "source": [
    "# calculateDiceRollProb(numTrials, targetValue) takes as input the number of \n",
    "# trials for estimation and the target value. \n",
    "# Returns the empirical probability of getting a value >= the specified target value. \n",
    "#\n",
    "\n",
    "def calculateDiceRollProb(numTrials, targetValue):\n",
    "    \n",
    "    num_Trials = numTrials\n",
    "    \n",
    "    diceList = [random.randint(1, 6) for _ in range(0, num_Trials)]\n",
    "    diceArray = np.array(diceList)\n",
    "    target = diceArray[diceArray >= targetValue]\n",
    "    return(len(target)/num_Trials)\n",
    "    \n",
    "    \n",
    "    \n",
    "# For example,\n",
    "calculateDiceRollProb(1000, 4)\n",
    "# varies, but around -> 0.5"
   ]
  },
  {
   "cell_type": "markdown",
   "metadata": {
    "deletable": false,
    "editable": false,
    "nbgrader": {
     "grade": false,
     "locked": true,
     "solution": false
    }
   },
   "source": [
    "(c) Now consider the event where you roll multiple dice and take the max value observed. Write a function that randomly simulate this event multiple times and returns the maximum value obtained in each trial. "
   ]
  },
  {
   "cell_type": "code",
   "execution_count": 44,
   "metadata": {},
   "outputs": [
    {
     "data": {
      "text/plain": [
       "[6, 5, 5]"
      ]
     },
     "execution_count": 44,
     "metadata": {},
     "output_type": "execute_result"
    }
   ],
   "source": [
    "# get_max_values(num_trials, num_dice) takes as input the number of trials and the \n",
    "# number of dice to be rolled simultaneously, and returns a list of maximum value \n",
    "# obtained in each trial as a pandas DataFrame.\n",
    "\n",
    "\n",
    "import random\n",
    "def get_max_values(num_trials, num_dice):\n",
    "    trial_list=[]\n",
    "    min = 1\n",
    "    max = 6\n",
    "    for i in range (1,num_trials+1):\n",
    "        m=0\n",
    "        for j in range(1,num_dice+1):\n",
    "            k = random.randint(min, max)\n",
    "            if m<k:\n",
    "                m=k\n",
    "        trial_list.append(m)\n",
    "    return(trial_list)\n",
    "\n",
    "\n",
    "get_max_values(3, 5)\n",
    "# Varies, expect lots of 6's and 5's, example ->  [6,5,5]\n"
   ]
  },
  {
   "cell_type": "markdown",
   "metadata": {
    "deletable": false,
    "editable": false,
    "nbgrader": {
     "grade": false,
     "locked": true,
     "solution": false
    }
   },
   "source": [
    "(d) Use the method from Q2c to simulate 1000 trials with 10 dice. Plot a histogram of resulting max values (use number of bins=6)."
   ]
  },
  {
   "cell_type": "code",
   "execution_count": 46,
   "metadata": {
    "scrolled": true
   },
   "outputs": [
    {
     "data": {
      "image/png": "[encoded data removed]",
      "text/plain": [
       "<Figure size 432x288 with 1 Axes>"
      ]
     },
     "metadata": {},
     "output_type": "display_data"
    }
   ],
   "source": [
    "num_trials = 1000\n",
    "num_dice = 10\n",
    "\n",
    "result_list = get_max_values(num_trials, num_dice)\n",
    "plt.hist(result_list, bins=6)\n",
    "plt.show()"
   ]
  },
  {
   "cell_type": "markdown",
   "metadata": {
    "deletable": false,
    "editable": false,
    "nbgrader": {
     "grade": false,
     "locked": true,
     "solution": false
    }
   },
   "source": [
    "(e) Write a function that uses the method from Q2c to simulate multiple trials of rolling several dice and taking the max. Calculate the empirical probability of getting a max value greater than or equal to the specified target value (e.g., >=5)."
   ]
  },
  {
   "cell_type": "code",
   "execution_count": 56,
   "metadata": {},
   "outputs": [
    {
     "data": {
      "text/plain": [
       "0.837"
      ]
     },
     "execution_count": 56,
     "metadata": {},
     "output_type": "execute_result"
    }
   ],
   "source": [
    "# calculateMaxDiceRollProb(num_trials, num_dice, target_value) takes as input the \n",
    "# number of trials, the number of dice to be rolled simultaneously, and the target \n",
    "# value. Returns the empirical probability of getting a max value >=target value.\n",
    "\n",
    "\n",
    "\n",
    "def calculateMaxDiceRollProb(num_trials, num_dice, target_value):\n",
    "    trial_list=[]\n",
    "    min = 1\n",
    "    max = 6\n",
    "    for i in range (1,num_trials+1):\n",
    "        m=0\n",
    "        for j in range(1,num_dice+1):\n",
    "            k = random.randint(min, max)\n",
    "            if m<k:\n",
    "                m=k\n",
    "        trial_list.append(m)\n",
    "    allQs = np.array(trial_list)\n",
    "    sigQs = allQs[allQs >= target_value]\n",
    "    return(len(sigQs)/num_trials)\n",
    "    \n",
    "# calculateMaxDiceRollProb(1000, 10, 6)\n",
    "\n",
    "# For example,\n",
    "calculateMaxDiceRollProb(1000, 10, 6)\n",
    "# varies, near -> 0.838"
   ]
  },
  {
   "cell_type": "markdown",
   "metadata": {
    "collapsed": true,
    "deletable": false,
    "editable": false,
    "nbgrader": {
     "grade": false,
     "locked": true,
     "solution": false
    }
   },
   "source": [
    "## Q3 (4 pts)"
   ]
  },
  {
   "cell_type": "markdown",
   "metadata": {
    "collapsed": true,
    "deletable": false,
    "editable": false,
    "nbgrader": {
     "grade": false,
     "locked": true,
     "solution": false
    }
   },
   "source": [
    "Consider the AB test results in the csv file 'ab_data.csv'. The data consists of 2000 users. The column 'group' indicates whether the user is assigned to the control group (A) or the treatment group (B). The column 'premium_signed_up' indicates whether the user signed up for the premium service or not with a 1 or 0, respectively. \n",
    "\n",
    "(a) Calculate the difference in means between group A and B for the 'premium_signed_up' attribute."
   ]
  },
  {
   "cell_type": "code",
   "execution_count": 65,
   "metadata": {},
   "outputs": [
    {
     "name": "stdout",
     "output_type": "stream",
     "text": [
      "0.08771215329263711\n"
     ]
    }
   ],
   "source": [
    "data = pd.read_csv('ab_data.csv')\n",
    "groupmean = data.groupby('group')[ 'premium_signed_up' ].mean()\n",
    "diff = groupmean[0]-groupmean[1]\n",
    "print(diff)"
   ]
  },
  {
   "cell_type": "markdown",
   "metadata": {
    "deletable": false,
    "editable": false,
    "nbgrader": {
     "grade": false,
     "locked": true,
     "solution": false
    }
   },
   "source": [
    "(b) Apply randomization testing to calculate an empirical distribution in the difference in means between the two groups. Specifically, randomly permute the assignment of group A/B for given number of trials and calculate difference in means between the two groups. Repeatedly do this to estimate a null distribution. Return the resulting difference obtained for each trial as a pandas dataframe."
   ]
  },
  {
   "cell_type": "code",
   "execution_count": 92,
   "metadata": {},
   "outputs": [
    {
     "data": {
      "text/html": [
       "<div>\n",
       "<style scoped>\n",
       "    .dataframe tbody tr th:only-of-type {\n",
       "        vertical-align: middle;\n",
       "    }\n",
       "\n",
       "    .dataframe tbody tr th {\n",
       "        vertical-align: top;\n",
       "    }\n",
       "\n",
       "    .dataframe thead th {\n",
       "        text-align: right;\n",
       "    }\n",
       "</style>\n",
       "<table border=\"1\" class=\"dataframe\">\n",
       "  <thead>\n",
       "    <tr style=\"text-align: right;\">\n",
       "      <th></th>\n",
       "      <th>0</th>\n",
       "    </tr>\n",
       "  </thead>\n",
       "  <tbody>\n",
       "    <tr>\n",
       "      <th>0</th>\n",
       "      <td>-0.012291</td>\n",
       "    </tr>\n",
       "    <tr>\n",
       "      <th>1</th>\n",
       "      <td>-0.015291</td>\n",
       "    </tr>\n",
       "    <tr>\n",
       "      <th>2</th>\n",
       "      <td>0.003710</td>\n",
       "    </tr>\n",
       "    <tr>\n",
       "      <th>3</th>\n",
       "      <td>0.004710</td>\n",
       "    </tr>\n",
       "    <tr>\n",
       "      <th>4</th>\n",
       "      <td>0.005710</td>\n",
       "    </tr>\n",
       "    <tr>\n",
       "      <th>5</th>\n",
       "      <td>0.010710</td>\n",
       "    </tr>\n",
       "    <tr>\n",
       "      <th>6</th>\n",
       "      <td>-0.000291</td>\n",
       "    </tr>\n",
       "    <tr>\n",
       "      <th>7</th>\n",
       "      <td>0.022710</td>\n",
       "    </tr>\n",
       "    <tr>\n",
       "      <th>8</th>\n",
       "      <td>-0.002291</td>\n",
       "    </tr>\n",
       "    <tr>\n",
       "      <th>9</th>\n",
       "      <td>0.007710</td>\n",
       "    </tr>\n",
       "    <tr>\n",
       "      <th>10</th>\n",
       "      <td>0.002710</td>\n",
       "    </tr>\n",
       "    <tr>\n",
       "      <th>11</th>\n",
       "      <td>0.004710</td>\n",
       "    </tr>\n",
       "    <tr>\n",
       "      <th>12</th>\n",
       "      <td>0.008710</td>\n",
       "    </tr>\n",
       "    <tr>\n",
       "      <th>13</th>\n",
       "      <td>-0.022291</td>\n",
       "    </tr>\n",
       "    <tr>\n",
       "      <th>14</th>\n",
       "      <td>-0.003291</td>\n",
       "    </tr>\n",
       "    <tr>\n",
       "      <th>15</th>\n",
       "      <td>-0.005291</td>\n",
       "    </tr>\n",
       "    <tr>\n",
       "      <th>16</th>\n",
       "      <td>0.008710</td>\n",
       "    </tr>\n",
       "    <tr>\n",
       "      <th>17</th>\n",
       "      <td>0.002710</td>\n",
       "    </tr>\n",
       "    <tr>\n",
       "      <th>18</th>\n",
       "      <td>0.005710</td>\n",
       "    </tr>\n",
       "    <tr>\n",
       "      <th>19</th>\n",
       "      <td>0.009710</td>\n",
       "    </tr>\n",
       "    <tr>\n",
       "      <th>20</th>\n",
       "      <td>-0.002291</td>\n",
       "    </tr>\n",
       "    <tr>\n",
       "      <th>21</th>\n",
       "      <td>-0.008291</td>\n",
       "    </tr>\n",
       "    <tr>\n",
       "      <th>22</th>\n",
       "      <td>0.011710</td>\n",
       "    </tr>\n",
       "    <tr>\n",
       "      <th>23</th>\n",
       "      <td>-0.001291</td>\n",
       "    </tr>\n",
       "    <tr>\n",
       "      <th>24</th>\n",
       "      <td>-0.001291</td>\n",
       "    </tr>\n",
       "    <tr>\n",
       "      <th>25</th>\n",
       "      <td>-0.014291</td>\n",
       "    </tr>\n",
       "    <tr>\n",
       "      <th>26</th>\n",
       "      <td>-0.013291</td>\n",
       "    </tr>\n",
       "    <tr>\n",
       "      <th>27</th>\n",
       "      <td>-0.007291</td>\n",
       "    </tr>\n",
       "    <tr>\n",
       "      <th>28</th>\n",
       "      <td>-0.008291</td>\n",
       "    </tr>\n",
       "    <tr>\n",
       "      <th>29</th>\n",
       "      <td>-0.003291</td>\n",
       "    </tr>\n",
       "    <tr>\n",
       "      <th>...</th>\n",
       "      <td>...</td>\n",
       "    </tr>\n",
       "    <tr>\n",
       "      <th>70</th>\n",
       "      <td>0.002710</td>\n",
       "    </tr>\n",
       "    <tr>\n",
       "      <th>71</th>\n",
       "      <td>0.004710</td>\n",
       "    </tr>\n",
       "    <tr>\n",
       "      <th>72</th>\n",
       "      <td>-0.009291</td>\n",
       "    </tr>\n",
       "    <tr>\n",
       "      <th>73</th>\n",
       "      <td>0.008710</td>\n",
       "    </tr>\n",
       "    <tr>\n",
       "      <th>74</th>\n",
       "      <td>0.004710</td>\n",
       "    </tr>\n",
       "    <tr>\n",
       "      <th>75</th>\n",
       "      <td>0.008710</td>\n",
       "    </tr>\n",
       "    <tr>\n",
       "      <th>76</th>\n",
       "      <td>0.007710</td>\n",
       "    </tr>\n",
       "    <tr>\n",
       "      <th>77</th>\n",
       "      <td>0.015710</td>\n",
       "    </tr>\n",
       "    <tr>\n",
       "      <th>78</th>\n",
       "      <td>-0.009291</td>\n",
       "    </tr>\n",
       "    <tr>\n",
       "      <th>79</th>\n",
       "      <td>0.008710</td>\n",
       "    </tr>\n",
       "    <tr>\n",
       "      <th>80</th>\n",
       "      <td>0.003710</td>\n",
       "    </tr>\n",
       "    <tr>\n",
       "      <th>81</th>\n",
       "      <td>0.000710</td>\n",
       "    </tr>\n",
       "    <tr>\n",
       "      <th>82</th>\n",
       "      <td>-0.008291</td>\n",
       "    </tr>\n",
       "    <tr>\n",
       "      <th>83</th>\n",
       "      <td>0.003710</td>\n",
       "    </tr>\n",
       "    <tr>\n",
       "      <th>84</th>\n",
       "      <td>-0.000291</td>\n",
       "    </tr>\n",
       "    <tr>\n",
       "      <th>85</th>\n",
       "      <td>-0.005291</td>\n",
       "    </tr>\n",
       "    <tr>\n",
       "      <th>86</th>\n",
       "      <td>-0.021291</td>\n",
       "    </tr>\n",
       "    <tr>\n",
       "      <th>87</th>\n",
       "      <td>-0.020291</td>\n",
       "    </tr>\n",
       "    <tr>\n",
       "      <th>88</th>\n",
       "      <td>0.010710</td>\n",
       "    </tr>\n",
       "    <tr>\n",
       "      <th>89</th>\n",
       "      <td>0.007710</td>\n",
       "    </tr>\n",
       "    <tr>\n",
       "      <th>90</th>\n",
       "      <td>0.004710</td>\n",
       "    </tr>\n",
       "    <tr>\n",
       "      <th>91</th>\n",
       "      <td>-0.004291</td>\n",
       "    </tr>\n",
       "    <tr>\n",
       "      <th>92</th>\n",
       "      <td>-0.007291</td>\n",
       "    </tr>\n",
       "    <tr>\n",
       "      <th>93</th>\n",
       "      <td>-0.005291</td>\n",
       "    </tr>\n",
       "    <tr>\n",
       "      <th>94</th>\n",
       "      <td>0.004710</td>\n",
       "    </tr>\n",
       "    <tr>\n",
       "      <th>95</th>\n",
       "      <td>-0.010291</td>\n",
       "    </tr>\n",
       "    <tr>\n",
       "      <th>96</th>\n",
       "      <td>-0.001291</td>\n",
       "    </tr>\n",
       "    <tr>\n",
       "      <th>97</th>\n",
       "      <td>-0.003291</td>\n",
       "    </tr>\n",
       "    <tr>\n",
       "      <th>98</th>\n",
       "      <td>-0.008291</td>\n",
       "    </tr>\n",
       "    <tr>\n",
       "      <th>99</th>\n",
       "      <td>-0.001291</td>\n",
       "    </tr>\n",
       "  </tbody>\n",
       "</table>\n",
       "<p>100 rows × 1 columns</p>\n",
       "</div>"
      ],
      "text/plain": [
       "           0\n",
       "0  -0.012291\n",
       "1  -0.015291\n",
       "2   0.003710\n",
       "3   0.004710\n",
       "4   0.005710\n",
       "5   0.010710\n",
       "6  -0.000291\n",
       "7   0.022710\n",
       "8  -0.002291\n",
       "9   0.007710\n",
       "10  0.002710\n",
       "11  0.004710\n",
       "12  0.008710\n",
       "13 -0.022291\n",
       "14 -0.003291\n",
       "15 -0.005291\n",
       "16  0.008710\n",
       "17  0.002710\n",
       "18  0.005710\n",
       "19  0.009710\n",
       "20 -0.002291\n",
       "21 -0.008291\n",
       "22  0.011710\n",
       "23 -0.001291\n",
       "24 -0.001291\n",
       "25 -0.014291\n",
       "26 -0.013291\n",
       "27 -0.007291\n",
       "28 -0.008291\n",
       "29 -0.003291\n",
       "..       ...\n",
       "70  0.002710\n",
       "71  0.004710\n",
       "72 -0.009291\n",
       "73  0.008710\n",
       "74  0.004710\n",
       "75  0.008710\n",
       "76  0.007710\n",
       "77  0.015710\n",
       "78 -0.009291\n",
       "79  0.008710\n",
       "80  0.003710\n",
       "81  0.000710\n",
       "82 -0.008291\n",
       "83  0.003710\n",
       "84 -0.000291\n",
       "85 -0.005291\n",
       "86 -0.021291\n",
       "87 -0.020291\n",
       "88  0.010710\n",
       "89  0.007710\n",
       "90  0.004710\n",
       "91 -0.004291\n",
       "92 -0.007291\n",
       "93 -0.005291\n",
       "94  0.004710\n",
       "95 -0.010291\n",
       "96 -0.001291\n",
       "97 -0.003291\n",
       "98 -0.008291\n",
       "99 -0.001291\n",
       "\n",
       "[100 rows x 1 columns]"
      ]
     },
     "execution_count": 92,
     "metadata": {},
     "output_type": "execute_result"
    }
   ],
   "source": [
    "# calculateEmpiricalDiffMeans(num_permutation_trials) takes as input the number of permutation trials.\n",
    "# Returns the difference in means between the A and B groups obtained for each trial as a pandas dataframe. \n",
    "\n",
    "\n",
    "def calculateEmpiricalDiffMeans(num_permutation_trials):\n",
    "    \n",
    "    trials = num_permutation_trials\n",
    "    data = pd.read_csv('ab_data.csv')\n",
    "    dShape = data.group.values\n",
    "    diffQs = []\n",
    "    for i in range(trials):\n",
    "        # randomly split data into two groups\n",
    "        np.random.shuffle(dShape)\n",
    "        data['group'] = dShape\n",
    "        groupmean = data.groupby('group')[ 'premium_signed_up' ].mean()\n",
    "        diff = groupmean[0]-groupmean[1]\n",
    "        diffQs.append(diff)\n",
    "    DF = pd.DataFrame(diffQs)\n",
    "    return(DF)\n",
    "    \n",
    "\n",
    "# For example,\n",
    "calculateEmpiricalDiffMeans(100) # -> (100 x 1 Pandas Dataframe)"
   ]
  },
  {
   "cell_type": "markdown",
   "metadata": {
    "deletable": false,
    "editable": false,
    "nbgrader": {
     "grade": false,
     "locked": true,
     "solution": false
    }
   },
   "source": [
    "(c) Use the method from Q3b and plot the results of 100 permutation trials as a histogram."
   ]
  },
  {
   "cell_type": "code",
   "execution_count": 98,
   "metadata": {},
   "outputs": [
    {
     "data": {
      "image/png": "[encoded data removed]",
      "text/plain": [
       "<Figure size 432x288 with 1 Axes>"
      ]
     },
     "metadata": {},
     "output_type": "display_data"
    }
   ],
   "source": [
    "num_permutation_trials = 100\n",
    "result = calculateEmpiricalDiffMeans(num_permutation_trials)\n",
    "plt.hist(result[0])\n",
    "plt.show()\n"
   ]
  },
  {
   "cell_type": "markdown",
   "metadata": {
    "deletable": false,
    "editable": false,
    "nbgrader": {
     "grade": false,
     "locked": true,
     "solution": false
    }
   },
   "source": [
    "(d) Use the observed difference calculated in Q3a, and the method from Q3b, to conduct a hypothesis test to determine whether the observed difference is significant. Specifically, determine the empirical probability of observing the observed difference under the null hypothesis. "
   ]
  },
  {
   "cell_type": "code",
   "execution_count": 6,
   "metadata": {},
   "outputs": [
    {
     "data": {
      "text/plain": [
       "(0.0, 'reject')"
      ]
     },
     "execution_count": 6,
     "metadata": {},
     "output_type": "execute_result"
    }
   ],
   "source": [
    "# testSignificanceDiffMeans(numTrials, alpha) takes as input the number of trials, and the significance level alpha.\n",
    "# Returns a tuple with the first element as:\n",
    "# the empirical probability of observing the observed difference under the null hypothesis, and\n",
    "# the second element as the decision to \"accept\" or \"reject\" the hypothesis. \n",
    "\n",
    "data = pd.read_csv('ab_data.csv')\n",
    "groupmean = data.groupby('group')[ 'premium_signed_up' ].mean()\n",
    "observed_diff = groupmean[0]-groupmean[1]\n",
    "\n",
    "def testSignificanceDiffMeans(numTrials, alpha):\n",
    "    \n",
    "    trials = numTrials\n",
    "    data = pd.read_csv('ab_data.csv')\n",
    "    dShape = data.group.values\n",
    "    diffQs = []\n",
    "    for i in range(trials):\n",
    "        # randomly split data into two groups\n",
    "        np.random.shuffle(dShape)\n",
    "        data['group'] = dShape\n",
    "        groupmean = data.groupby('group')[ 'premium_signed_up' ].mean()\n",
    "        diff = groupmean[0]-groupmean[1]\n",
    "        diffQs.append(diff)\n",
    "    allQs = np.array(diffQs)\n",
    "    sigQs = allQs[allQs == observed_diff]\n",
    "    probab = len(sigQs)/trials\n",
    "    if probab < alpha:\n",
    "        result = \"reject\"\n",
    "    else:\n",
    "        result = \"accept\"\n",
    "    return(probab, result)\n",
    "    \n",
    "        \n",
    "\n",
    "    \n",
    "# For example,\n",
    "testSignificanceDiffMeans(100, 0.1)\n",
    "# -> (0.0, 'reject')\n"
   ]
  },
  {
   "cell_type": "markdown",
   "metadata": {
    "deletable": false,
    "editable": false,
    "nbgrader": {
     "grade": false,
     "locked": true,
     "solution": false
    }
   },
   "source": [
    "## Q4 (3 pts)"
   ]
  },
  {
   "cell_type": "markdown",
   "metadata": {
    "deletable": false,
    "editable": false,
    "nbgrader": {
     "grade": false,
     "locked": true,
     "solution": false
    }
   },
   "source": [
    "(a) Consider the data in the files 'over_50.csv' and 'under_50.csv', about the number of hours of exercise per week and the probability of developing a disease, for two groups of patients, those below the age of 50 and those over the age of 50, respectively.\n",
    "\n",
    "Create two labeled scatter plots (one for each dataset) with 'Hours Exercised' on the x axis and 'probability' on the y-axis. "
   ]
  },
  {
   "cell_type": "code",
   "execution_count": 7,
   "metadata": {},
   "outputs": [
    {
     "name": "stdout",
     "output_type": "stream",
     "text": [
      "   age  Hours Exercised  probability\n",
      "0   69         4.942730    45.387645\n",
      "1   73         7.618908    37.596694\n",
      "2   61         5.202786    43.797262\n",
      "3   84         4.700312    53.748417\n",
      "4   82         4.002622    52.033043\n"
     ]
    }
   ],
   "source": [
    "over_50 = pd.read_csv(\"over_50.csv\")\n",
    "under_50 = pd.read_csv(\"under_50.csv\")\n",
    "print(over_50.head())"
   ]
  },
  {
   "cell_type": "code",
   "execution_count": 30,
   "metadata": {},
   "outputs": [
    {
     "data": {
      "image/png": "[encoded data removed]",
      "text/plain": [
       "<Figure size 432x288 with 2 Axes>"
      ]
     },
     "metadata": {},
     "output_type": "display_data"
    }
   ],
   "source": [
    "over_50 = pd.read_csv(\"over_50.csv\")\n",
    "under_50 = pd.read_csv(\"under_50.csv\")\n",
    "\n",
    "fig, (ax1, ax2) = plt.subplots(1, 2, sharex=True, sharey=True)\n",
    "fig.suptitle('Hours of exercise v.s Probability of getting a disease')\n",
    "\n",
    "ax1.scatter(over_50['Hours Exercised'], over_50['probability'])\n",
    "ax1.set_title('over_50')\n",
    "ax1.set_ylabel('Probability')\n",
    "ax1.set_xlabel('Hours of exercise')\n",
    "\n",
    "ax2.scatter(under_50['Hours Exercised'], under_50['probability'])\n",
    "ax2.set_title('under_50')\n",
    "ax2.set_xlabel('Hours of exercise')\n",
    "\n",
    "plt.show()"
   ]
  },
  {
   "cell_type": "markdown",
   "metadata": {
    "deletable": false,
    "editable": false,
    "nbgrader": {
     "grade": false,
     "locked": true,
     "solution": false
    }
   },
   "source": [
    "(b) Calculate the correlation between the 'Hours Exercised' and 'probability' for the two datasets. "
   ]
  },
  {
   "cell_type": "code",
   "execution_count": 44,
   "metadata": {},
   "outputs": [
    {
     "name": "stdout",
     "output_type": "stream",
     "text": [
      "over_50_correlation = -0.8574318141725066 ; under_50_correlation = -0.4766996516261135\n"
     ]
    }
   ],
   "source": [
    "col1 = over_50['Hours Exercised']\n",
    "col2 = over_50['probability']\n",
    "over_50_correlation = col1.corr(col2)\n",
    "\n",
    "colb1 = under_50['Hours Exercised']\n",
    "colb2 = under_50['probability']\n",
    "under_50_correlation = colb1.corr(colb2)\n",
    "print('over_50_correlation' + ' = ' + str(over_50_correlation) + \" ; \" + 'under_50_correlation' + ' = ' + str(under_50_correlation))\n"
   ]
  },
  {
   "cell_type": "markdown",
   "metadata": {
    "deletable": false,
    "editable": false,
    "nbgrader": {
     "grade": false,
     "locked": true,
     "solution": false
    }
   },
   "source": [
    "(c) Now, combine the data in the two files (you can use the concat() function in pandas to concatenate two dataframes). Create a scatter plot with 'Hours Exercised' on the x axis and 'probability' on the y-axis."
   ]
  },
  {
   "cell_type": "code",
   "execution_count": 50,
   "metadata": {},
   "outputs": [
    {
     "data": {
      "image/png": "[encoded data removed]",
      "text/plain": [
       "<Figure size 432x288 with 1 Axes>"
      ]
     },
     "metadata": {},
     "output_type": "display_data"
    }
   ],
   "source": [
    "data = pd.concat([over_50, under_50])\n",
    "\n",
    "fig, ax = plt.subplots()\n",
    "\n",
    "ax.scatter(data['Hours Exercised'], data['probability'])\n",
    "ax.set_title('Hours of exercise v.s Probability of getting a disease')\n",
    "ax.set_ylabel('Probability')\n",
    "ax.set_xlabel('Hours of exercise')\n",
    "plt.show()"
   ]
  },
  {
   "cell_type": "markdown",
   "metadata": {
    "deletable": false,
    "editable": false,
    "nbgrader": {
     "grade": false,
     "locked": true,
     "solution": false
    }
   },
   "source": [
    "(d) Compute the correlation between the 'Hours Exercised' and 'probability' for the combined data. "
   ]
  },
  {
   "cell_type": "code",
   "execution_count": 52,
   "metadata": {},
   "outputs": [
    {
     "name": "stdout",
     "output_type": "stream",
     "text": [
      "0.32863439089294455\n"
     ]
    }
   ],
   "source": [
    "col1 = data['Hours Exercised']\n",
    "col2 = data['probability']\n",
    "data_correlation = col1.corr(col2)\n",
    "print(data_correlation)\n"
   ]
  },
  {
   "cell_type": "markdown",
   "metadata": {
    "deletable": false,
    "editable": false,
    "nbgrader": {
     "grade": false,
     "locked": true,
     "solution": false
    }
   },
   "source": [
    "(e) Discuss how Simpson's Paradox has occured in this data by considering your results above. "
   ]
  },
  {
   "cell_type": "markdown",
   "metadata": {},
   "source": [
    "#### When the data is splitted into two groups of patients, those below the age of 50 and those over the age of 50, there is a negative correlation between the 'Hours Exercised' and 'probability'  in both group. However, when the data was aggregated, there is reversed trend showing a positive correlation."
   ]
  },
  {
   "cell_type": "markdown",
   "metadata": {
    "collapsed": true
   },
   "source": [
    "### YOUR ANSWER HERE: \n",
    "\n",
    "  "
   ]
  },
  {
   "cell_type": "markdown",
   "metadata": {
    "deletable": false,
    "editable": false,
    "nbgrader": {
     "grade": false,
     "locked": true,
     "solution": false
    }
   },
   "source": [
    "## Q5: Ethical issues in Data Science (4 pts)\n",
    "\n",
    "Find one example of a data science application in a recent news article, where privacy and/or bias issues have been identified, and briefly write the answer for the following questions. "
   ]
  },
  {
   "cell_type": "markdown",
   "metadata": {
    "deletable": false,
    "editable": false,
    "nbgrader": {
     "grade": false,
     "locked": true,
     "solution": false
    }
   },
   "source": [
    "(a) A brief summary (1-2 sentences) of the article and a reference."
   ]
  },
  {
   "cell_type": "markdown",
   "metadata": {},
   "source": [
    "### YOUR ANSWER HERE: \n",
    "\n"
   ]
  },
  {
   "cell_type": "markdown",
   "metadata": {},
   "source": [
    "#### The article is about data selection bias in the vocie recognization technology that leads to the unfairness.\n",
    "https://hbr.org/2019/05/voice-recognition-still-has-significant-race-and-gender-biases"
   ]
  },
  {
   "cell_type": "markdown",
   "metadata": {
    "deletable": false,
    "editable": false,
    "nbgrader": {
     "grade": false,
     "locked": true,
     "solution": false
    }
   },
   "source": [
    "(b) Identify the data analysis task in the application and describe the data that was analyzed."
   ]
  },
  {
   "cell_type": "markdown",
   "metadata": {},
   "source": [
    "### YOUR ANSWER HERE: \n",
    "\n",
    "  "
   ]
  },
  {
   "cell_type": "markdown",
   "metadata": {},
   "source": [
    "#### The article provides a thought of the experiment:\n",
    "\n",
    "Consider three Americans who all speak English as a first language. Say my friend Josh and I both use Google speech recognition. He might get 92% accuracy and I would get 79% accuracy. We’re both white. If we read the same paragraph, he would need to fix about 8% of the transcription and I’d need to fix 21%. My mixed-race female friend, Jada, is likely to get 10% lower accuracy than me.  So, our scorecard would look something like:\n",
    "\n",
    "Josh (white male) = A-, 92%\n",
    "\n",
    "Joan (white female) = C+, 79%\n",
    "\n",
    "Jada (mixed race female) = D+, 69%"
   ]
  },
  {
   "cell_type": "markdown",
   "metadata": {
    "deletable": false,
    "editable": false,
    "nbgrader": {
     "grade": false,
     "locked": true,
     "solution": false
    }
   },
   "source": [
    "(c) State the privacy/fairness issues that were identified."
   ]
  },
  {
   "cell_type": "markdown",
   "metadata": {},
   "source": [
    "#### Google’s speech recognition is more accurate for men than it is for women. It is also more accurate for white than it is for other races."
   ]
  },
  {
   "cell_type": "markdown",
   "metadata": {},
   "source": [
    "### YOUR ANSWER HERE: \n",
    "\n",
    "  "
   ]
  },
  {
   "cell_type": "markdown",
   "metadata": {
    "deletable": false,
    "editable": false,
    "nbgrader": {
     "grade": false,
     "locked": true,
     "solution": false
    }
   },
   "source": [
    "(d) Discuss what aspect of the data/analysis is likely the root cause of the issue. (If this aspect is not discussed, just speculate yourself.)"
   ]
  },
  {
   "cell_type": "markdown",
   "metadata": {},
   "source": [
    "### YOUR ANSWER HERE: \n",
    "\n",
    "  "
   ]
  },
  {
   "cell_type": "markdown",
   "metadata": {},
   "source": [
    "#### The underlying reason may be that databases have lots of white male data, and less data on female and minority voices."
   ]
  }
 ],
 "metadata": {
  "kernelspec": {
   "display_name": "Python 3.5",
   "language": "python",
   "name": "python35"
  },
  "language_info": {
   "codemirror_mode": {
    "name": "ipython",
    "version": 3
   },
   "file_extension": ".py",
   "mimetype": "text/x-python",
   "name": "python",
   "nbconvert_exporter": "python",
   "pygments_lexer": "ipython3",
   "version": "3.5.2"
  }
 },
 "nbformat": 4,
 "nbformat_minor": 2
}
