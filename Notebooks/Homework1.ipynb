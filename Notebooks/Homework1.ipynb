{
 "cells": [
  {
   "cell_type": "markdown",
   "metadata": {
    "deletable": false,
    "editable": false,
    "nbgrader": {
     "grade": false,
     "locked": true,
     "solution": false
    }
   },
   "source": [
    "In this assignment, the questions on plots will be graded manually, and the remaining questions will be auto-graded."
   ]
  },
  {
   "cell_type": "code",
   "execution_count": 2,
   "metadata": {
    "collapsed": true,
    "deletable": false,
    "editable": false,
    "nbgrader": {
     "grade": false,
     "locked": true,
     "solution": false
    }
   },
   "outputs": [],
   "source": [
    "# Run this cell so that the necessary packages are imported. \n",
    "\n",
    "import pandas as pd\n",
    "import matplotlib.pyplot as plt \n",
    "import numpy as np\n",
    "import math\n",
    "import scipy as sp\n",
    "from scipy import stats as scs"
   ]
  },
  {
   "cell_type": "markdown",
   "metadata": {
    "deletable": false,
    "editable": false,
    "nbgrader": {
     "grade": false,
     "locked": true,
     "solution": false
    }
   },
   "source": [
    "## Q1"
   ]
  },
  {
   "cell_type": "markdown",
   "metadata": {
    "deletable": false,
    "editable": false,
    "nbgrader": {
     "grade": false,
     "locked": true,
     "solution": false
    }
   },
   "source": [
    "(a) Compute the mean of a random sample as follows:\n",
    "    i.  Read data in from a specified comma-separated text file with header \n",
    "        and store it in data frame. \n",
    "    ii. Create a sample of the specified size by sampling without replacement.\n",
    "        Unless otherwise specified, use the sample() function in pandas with \n",
    "        the specified random state value for repeatability. \n",
    "    iii.Select the column with specified index and return the mean of the values. "
   ]
  },
  {
   "cell_type": "code",
   "execution_count": 6,
   "metadata": {},
   "outputs": [
    {
     "data": {
      "text/plain": [
       "9.3"
      ]
     },
     "execution_count": 6,
     "metadata": {},
     "output_type": "execute_result"
    }
   ],
   "source": [
    "# getMean(filename, columnIndex, sampleSize, random_state) takes as input the \n",
    "# filename to read in data from, the column index, sample size, and value of \n",
    "# random state to use in the sample() function in pandas. Returns the sample  \n",
    "# mean of values in the column with the specified columnIndex.\n",
    "\n",
    "\n",
    "def getMean(filename, columnIndex, sampleSize, random_state):\n",
    "    \n",
    "    data = pd.read_csv(filename)\n",
    "    tmpMean = data.iloc[:,columnIndex].sample(sampleSize, random_state=random_state).mean()\n",
    "    return(tmpMean)\n",
    "    \n",
    "# For example,\n",
    "getMean('SAT_Participation_CT.csv', 5, 20, 10) # -> 9.3"
   ]
  },
  {
   "cell_type": "code",
   "execution_count": null,
   "metadata": {
    "collapsed": true,
    "deletable": false,
    "editable": false,
    "nbgrader": {
     "grade": true,
     "grade_id": "Q1a_1",
     "locked": true,
     "points": "0.34",
     "solution": false
    }
   },
   "outputs": [],
   "source": [
    "###\n",
    "### AUTOGRADER TEST - DO NOT REMOVE\n",
    "###\n"
   ]
  },
  {
   "cell_type": "code",
   "execution_count": null,
   "metadata": {
    "collapsed": true,
    "deletable": false,
    "editable": false,
    "nbgrader": {
     "grade": true,
     "grade_id": "Q1a_2",
     "locked": true,
     "points": "0.33",
     "solution": false
    }
   },
   "outputs": [],
   "source": [
    "###\n",
    "### AUTOGRADER TEST - DO NOT REMOVE\n",
    "###\n"
   ]
  },
  {
   "cell_type": "code",
   "execution_count": null,
   "metadata": {
    "collapsed": true,
    "deletable": false,
    "editable": false,
    "nbgrader": {
     "grade": true,
     "grade_id": "Q1a_3",
     "locked": true,
     "points": "0.33",
     "solution": false
    }
   },
   "outputs": [],
   "source": [
    "###\n",
    "### AUTOGRADER TEST - DO NOT REMOVE\n",
    "###\n"
   ]
  },
  {
   "cell_type": "markdown",
   "metadata": {
    "deletable": false,
    "editable": false,
    "nbgrader": {
     "grade": false,
     "locked": true,
     "solution": false
    }
   },
   "source": [
    "(b) Compute the average mean of a random sample as follows:\n",
    "    i.  Repeat Q1a for each of the specified number of trials.\n",
    "    ii. Set the 'random_state' parameter to trial number to faciliate testing, \n",
    "        i.e., for the first trial use random_state=0, for the second sample use \n",
    "        random_state=1, etc.\n",
    "    iii.Return the average value of the mean (over the trials) and the standard \n",
    "        error. \n"
   ]
  },
  {
   "cell_type": "code",
   "execution_count": 103,
   "metadata": {},
   "outputs": [
    {
     "data": {
      "text/plain": [
       "(7.3950000000000005, 1.7400582685007355)"
      ]
     },
     "execution_count": 103,
     "metadata": {},
     "output_type": "execute_result"
    }
   ],
   "source": [
    "# getAverageMean(filename, columnIndex, sampleSize, num_trials) takes as input \n",
    "# the filename to read in data from, the column index, sample size, and the \n",
    "# number of trials. Returns a tuple with: the first element recording the average \n",
    "# sample mean in the column with the specified columnIndex, and the second  \n",
    "# element recording the standard error (for the specified number of trials).\n",
    "\n",
    "def getAverageMean(filename, columnIndex, sampleSize, num_trials):\n",
    "    \n",
    "    data = pd.read_csv(filename)\n",
    "    numTrials = num_trials\n",
    "    sampleSize = sampleSize\n",
    "    means = []\n",
    "    random_state = 0\n",
    "    \n",
    "    for i in range(numTrials):\n",
    "        tmpMean = data.iloc[:,columnIndex].sample(sampleSize, random_state=random_state).mean()\n",
    "        means.append(tmpMean)\n",
    "        random_state += 1\n",
    "    \n",
    "    tmpDf = pd.DataFrame(means)\n",
    "    avgMean = tmpDf.mean()\n",
    "    stdErr = tmpDf.sem()\n",
    "    return(avgMean[0], stdErr[0])\n",
    "    \n",
    "# For example,\n",
    "getAverageMean('SAT_Participation_CT.csv', 5, 20, 10) #-> (7.3950000000000005, 1.7400582685007357)"
   ]
  },
  {
   "cell_type": "code",
   "execution_count": null,
   "metadata": {
    "collapsed": true,
    "deletable": false,
    "editable": false,
    "nbgrader": {
     "grade": true,
     "grade_id": "Q1b_1",
     "locked": true,
     "points": "0.34",
     "solution": false
    }
   },
   "outputs": [],
   "source": [
    "###\n",
    "### AUTOGRADER TEST - DO NOT REMOVE\n",
    "###\n"
   ]
  },
  {
   "cell_type": "code",
   "execution_count": null,
   "metadata": {
    "collapsed": true,
    "deletable": false,
    "editable": false,
    "nbgrader": {
     "grade": true,
     "grade_id": "Q1b_2",
     "locked": true,
     "points": "0.33",
     "solution": false
    }
   },
   "outputs": [],
   "source": [
    "###\n",
    "### AUTOGRADER TEST - DO NOT REMOVE\n",
    "###\n"
   ]
  },
  {
   "cell_type": "code",
   "execution_count": null,
   "metadata": {
    "collapsed": true,
    "deletable": false,
    "editable": false,
    "nbgrader": {
     "grade": true,
     "grade_id": "Q1b_3",
     "locked": true,
     "points": "0.33",
     "solution": false
    }
   },
   "outputs": [],
   "source": [
    "###\n",
    "### AUTOGRADER TEST - DO NOT REMOVE\n",
    "###\n"
   ]
  },
  {
   "cell_type": "markdown",
   "metadata": {
    "deletable": false,
    "editable": false,
    "nbgrader": {
     "grade": false,
     "locked": true,
     "solution": false
    }
   },
   "source": [
    "## Q2 (2 pts)"
   ]
  },
  {
   "cell_type": "markdown",
   "metadata": {
    "deletable": false,
    "editable": false,
    "nbgrader": {
     "grade": false,
     "locked": true,
     "solution": false
    }
   },
   "source": [
    "(a) Plot the sample mean as a function of sample size:\n",
    "    i.  Consider the file 'SAT_Participation_CT.csv'. \n",
    "    ii. Using the function from Q1b, with number of trials = 10, calculate the \n",
    "        average mean and standard error for the values in the fifth column. Use \n",
    "        the following sample sizes: [10, 25, 50, 75, 100, 150, 185]. \n",
    "    iii.Create a line plot with the sample size on x axis and avg mean value on \n",
    "        the y axis. Add standard error bars to each point using the errorbar() \n",
    "        function in python."
   ]
  },
  {
   "cell_type": "code",
   "execution_count": 43,
   "metadata": {},
   "outputs": [
    {
     "name": "stdout",
     "output_type": "stream",
     "text": [
      "[6.659999999999999, 7.359999999999999, 7.244, 7.151999999999999, 6.74, 6.68, 5.848108108108109]\n",
      "[2.010594163149015, 1.1404669608931637, 0.4088353104993636, 0.28718146139600886, 0.16355291362600527, 0.05180145699207753, 0.00890310285264403]\n"
     ]
    },
    {
     "data": {
      "image/png": "[encoded data removed]",
      "text/plain": [
       "<Figure size 432x288 with 1 Axes>"
      ]
     },
     "metadata": {},
     "output_type": "display_data"
    }
   ],
   "source": [
    "sample_sizes = [10, 25, 50, 75, 100, 150, 185]\n",
    "num_trials = 10\n",
    "col_index = 5\n",
    "avg_mean_list = []\n",
    "stderr_list = []\n",
    "\n",
    "for i in range(len(sample_sizes)):\n",
    "    average_mean, standard_error = getAverageMean('SAT_Participation_CT.csv', col_index, sample_sizes[i], num_trials)\n",
    "    avg_mean_list.append(average_mean)\n",
    "    stderr_list.append(standard_error)\n",
    "    \n",
    "print(avg_mean_list)\n",
    "print(stderr_list)\n",
    "\n",
    "import matplotlib.pyplot as plt\n",
    "\n",
    "fig, ax = plt.subplots()\n",
    "ax.errorbar(x=sample_sizes, y=avg_mean_list, yerr=stderr_list)\n",
    "plt.show()\n"
   ]
  },
  {
   "cell_type": "markdown",
   "metadata": {
    "deletable": false,
    "editable": false,
    "nbgrader": {
     "grade": false,
     "locked": true,
     "solution": false
    }
   },
   "source": [
    "(b) Repeat Q2a but use 50 trials. Note the difference in the error bars."
   ]
  },
  {
   "cell_type": "code",
   "execution_count": 44,
   "metadata": {
    "scrolled": true
   },
   "outputs": [
    {
     "name": "stdout",
     "output_type": "stream",
     "text": [
      "[7.422000000000001, 6.1888, 5.9576, 5.982666666666668, 6.0436000000000005, 6.020133333333333, 5.844324324324324]\n",
      "[2.172342758688069, 0.8503764006939178, 0.37236086951082426, 0.22811069967810402, 0.1728456619563906, 0.07143809375681125, 0.011550268514205419]\n"
     ]
    },
    {
     "data": {
      "image/png": "[encoded data removed]",
      "text/plain": [
       "<Figure size 432x288 with 1 Axes>"
      ]
     },
     "metadata": {},
     "output_type": "display_data"
    }
   ],
   "source": [
    "sample_sizes = [10, 25, 50, 75, 100, 150, 185]\n",
    "num_trials = 50\n",
    "col_index = 5\n",
    "avg_mean_list_2 = []\n",
    "stderr_list_2 = []\n",
    "\n",
    "for i in range(len(sample_sizes)):\n",
    "    average_mean, standard_error = getAverageMean('SAT_Participation_CT.csv', col_index, sample_sizes[i], num_trials)\n",
    "    avg_mean_list_2.append(average_mean)\n",
    "    stderr_list_2.append(standard_error)\n",
    "    \n",
    "print(avg_mean_list_2)\n",
    "print(stderr_list_2)\n",
    "\n",
    "import matplotlib.pyplot as plt\n",
    "\n",
    "fig2, ax2 = plt.subplots()\n",
    "ax2.errorbar(x=sample_sizes, y=avg_mean_list_2, yerr=stderr_list_2)\n",
    "plt.show()\n"
   ]
  },
  {
   "cell_type": "markdown",
   "metadata": {
    "deletable": false,
    "editable": false,
    "nbgrader": {
     "grade": false,
     "locked": true,
     "solution": false
    }
   },
   "source": [
    "## Q3"
   ]
  },
  {
   "cell_type": "markdown",
   "metadata": {
    "deletable": false,
    "editable": false,
    "nbgrader": {
     "grade": false,
     "locked": true,
     "solution": false
    }
   },
   "source": [
    "(a) Compute the standard deviation of a random sample as follows:\n",
    "    i.  Read data in from a specified comma-separated text file with header \n",
    "        and store it in data frame. \n",
    "    ii. Create a sample of the specified size by sampling without replacement.\n",
    "        Unless otherwise specified, use the sample() function in pandas with \n",
    "        the specified random state value for repeatability. \n",
    "    iii.Select the column with specified index and return the standard \n",
    "        deviation of the values. \n",
    " "
   ]
  },
  {
   "cell_type": "code",
   "execution_count": 45,
   "metadata": {},
   "outputs": [
    {
     "data": {
      "text/plain": [
       "50.82431614012245"
      ]
     },
     "execution_count": 45,
     "metadata": {},
     "output_type": "execute_result"
    }
   ],
   "source": [
    "# getStddev(filename, columnIndex, sampleSize, random_state) takes as input \n",
    "# the filename to read in data from, the column index, sample size, and the \n",
    "# value of random state to use in the sample() function in pandas. Returns the\n",
    "# standard deviation of the sampled values (sampled without replacement) in the \n",
    "# column with the specified columnIndex.\n",
    "\n",
    "# For example,\n",
    "# getStddev('SAT_Participation_CT.csv', 5, 10, 10) -> 50.82431614012245\n",
    "\n",
    "def getStddev(filename, columnIndex, sampleSize, random_state):\n",
    "          \n",
    "    data = pd.read_csv(filename)\n",
    "    tmpStd = data.iloc[:,columnIndex].sample(sampleSize, random_state=random_state).std()\n",
    "    return(tmpStd)\n",
    "\n",
    "getStddev('SAT_Participation_CT.csv', 5, 10, 10)\n"
   ]
  },
  {
   "cell_type": "code",
   "execution_count": null,
   "metadata": {
    "collapsed": true,
    "deletable": false,
    "editable": false,
    "nbgrader": {
     "grade": true,
     "grade_id": "Q3a_1",
     "locked": true,
     "points": "0.34",
     "solution": false
    }
   },
   "outputs": [],
   "source": [
    "###\n",
    "### AUTOGRADER TEST - DO NOT REMOVE\n",
    "###\n"
   ]
  },
  {
   "cell_type": "code",
   "execution_count": null,
   "metadata": {
    "collapsed": true,
    "deletable": false,
    "editable": false,
    "nbgrader": {
     "grade": true,
     "grade_id": "Q3a_2",
     "locked": true,
     "points": "0.33",
     "solution": false
    }
   },
   "outputs": [],
   "source": [
    "###\n",
    "### AUTOGRADER TEST - DO NOT REMOVE\n",
    "###\n"
   ]
  },
  {
   "cell_type": "code",
   "execution_count": null,
   "metadata": {
    "collapsed": true,
    "deletable": false,
    "editable": false,
    "nbgrader": {
     "grade": true,
     "grade_id": "Q3a_3",
     "locked": true,
     "points": "0.33",
     "solution": false
    }
   },
   "outputs": [],
   "source": [
    "###\n",
    "### AUTOGRADER TEST - DO NOT REMOVE\n",
    "###\n"
   ]
  },
  {
   "cell_type": "markdown",
   "metadata": {
    "deletable": false,
    "editable": false,
    "nbgrader": {
     "grade": false,
     "locked": true,
     "solution": false
    }
   },
   "source": [
    "(b) Compute the p-th percentile of the standard deviation over random samples as follows:\n",
    "    i.  Repeat Q3a for each of the specified number of trials.\n",
    "    ii. Set the 'random_state' parameter to trial number to faciliate testing, \n",
    "        i.e., for the first trial use random_state=0, for the second sample use \n",
    "        random_state=1, etc.\n",
    "    iii.Return the p-th percentile (0 < p < 100) of the standard deviations (over the \n",
    "        trials). You can use the percentile() function in numpy.\n"
   ]
  },
  {
   "cell_type": "code",
   "execution_count": 46,
   "metadata": {},
   "outputs": [
    {
     "name": "stdout",
     "output_type": "stream",
     "text": [
      "18.10028776099324\n",
      "37.91051782186642\n"
     ]
    }
   ],
   "source": [
    "# getPercentileStddev(filename, columnIndex, sampleSize, num_trials, p) takes \n",
    "# as input the filename to read in data from, the column index, sample size, \n",
    "# number of trials, and percentile p (0 < p < 100). Returns the p-th percentile\n",
    "# of the standard deviations obtained over the different trials.\n",
    "#\n",
    "\n",
    "def getPercentileStddev(filename, columnIndex, sampleSize, num_trials, p):\n",
    "    \n",
    "    data = pd.read_csv(filename)\n",
    "    numTrials = num_trials\n",
    "    sampleSize = sampleSize\n",
    "    stds = []\n",
    "    random_state = 0\n",
    "    \n",
    "    for i in range(numTrials):\n",
    "        tmpStd = data.iloc[:,columnIndex].sample(sampleSize, random_state=random_state).std()\n",
    "        stds.append(tmpStd)\n",
    "        random_state += 1\n",
    "    \n",
    "    percentile_stddev = np.percentile(stds, p)\n",
    "    \n",
    "    return(percentile_stddev)\n",
    "\n",
    "    \n",
    "# For example,\n",
    "print(getPercentileStddev('SAT_Participation_CT.csv', 5, 20, 10, 25))\n",
    "# -> 18.10028776099324\n",
    "\n",
    "print(getPercentileStddev('SAT_Participation_CT.csv', 5, 20, 10, 75))\n",
    "# -> 37.91051782186642"
   ]
  },
  {
   "cell_type": "code",
   "execution_count": null,
   "metadata": {
    "collapsed": true,
    "deletable": false,
    "editable": false,
    "nbgrader": {
     "grade": true,
     "grade_id": "Q3b_1",
     "locked": true,
     "points": "0.5",
     "solution": false
    }
   },
   "outputs": [],
   "source": [
    "###\n",
    "### AUTOGRADER TEST - DO NOT REMOVE\n",
    "###\n"
   ]
  },
  {
   "cell_type": "code",
   "execution_count": null,
   "metadata": {
    "collapsed": true,
    "deletable": false,
    "editable": false,
    "nbgrader": {
     "grade": true,
     "grade_id": "Q3b_2",
     "locked": true,
     "points": "0.5",
     "solution": false
    }
   },
   "outputs": [],
   "source": [
    "###\n",
    "### AUTOGRADER TEST - DO NOT REMOVE\n",
    "###\n"
   ]
  },
  {
   "cell_type": "markdown",
   "metadata": {
    "deletable": false,
    "editable": false,
    "nbgrader": {
     "grade": false,
     "locked": true,
     "solution": false
    }
   },
   "source": [
    "## Q4 (2 pts)"
   ]
  },
  {
   "cell_type": "markdown",
   "metadata": {
    "deletable": false,
    "editable": false,
    "nbgrader": {
     "grade": false,
     "locked": true,
     "solution": false
    }
   },
   "source": [
    "(a) Plot the standard deviation percentile as a function of sample size:\n",
    "    i.  Consider the file 'SAT_Participation_CT.csv'. \n",
    "    ii. Using the function from Q3b, with number of trials = 10, calculate the \n",
    "        25th percentile of the standard deviation for the values sampled from the \n",
    "        fifth column. Use sample sizes: [10, 25, 50, 75, 100, 150, 185]. \n",
    "    iii.Create a line plot with the sample size on x axis and 25th percentile of the\n",
    "        standard deviation on the y axis. \n"
   ]
  },
  {
   "cell_type": "code",
   "execution_count": 48,
   "metadata": {},
   "outputs": [
    {
     "name": "stdout",
     "output_type": "stream",
     "text": [
      "[12.374860484311942, 20.94189787217818, 23.197614828368806, 23.866998530529806, 25.774394829204283, 26.3503802457858, 25.434258052559066]\n"
     ]
    },
    {
     "data": {
      "image/png": "[encoded data removed]",
      "text/plain": [
       "<Figure size 432x288 with 1 Axes>"
      ]
     },
     "metadata": {},
     "output_type": "display_data"
    }
   ],
   "source": [
    "sample_sizes = [10, 25, 50, 75, 100, 150, 185]\n",
    "num_trials = 10\n",
    "col_index = 5\n",
    "p = 25\n",
    "std_list = []\n",
    "\n",
    "for i in range(len(sample_sizes)):\n",
    "    std = getPercentileStddev('SAT_Participation_CT.csv', col_index, sample_sizes[i], num_trials, p)\n",
    "    std_list.append(std)\n",
    "\n",
    "print(std_list)\n",
    "\n",
    "import matplotlib.pyplot as plt\n",
    "\n",
    "fig3, ax3 = plt.subplots()\n",
    "ax3.errorbar(x=sample_sizes, y=std_list)\n",
    "plt.show()\n"
   ]
  },
  {
   "cell_type": "markdown",
   "metadata": {
    "deletable": false,
    "editable": false,
    "nbgrader": {
     "grade": false,
     "locked": true,
     "solution": false
    }
   },
   "source": [
    "(b) Repeat Q4a but use 50 trials. Note the difference."
   ]
  },
  {
   "cell_type": "code",
   "execution_count": 49,
   "metadata": {},
   "outputs": [
    {
     "name": "stdout",
     "output_type": "stream",
     "text": [
      "[16.779223556187695, 17.993546810102018, 21.63584563531508, 23.167859909157823, 24.56692528871836, 25.27836106851944, 25.43591425783764]\n"
     ]
    },
    {
     "data": {
      "image/png": "[encoded data removed]",
      "text/plain": [
       "<Figure size 432x288 with 1 Axes>"
      ]
     },
     "metadata": {},
     "output_type": "display_data"
    }
   ],
   "source": [
    "sample_sizes = [10, 25, 50, 75, 100, 150, 185]\n",
    "num_trials = 50\n",
    "col_index = 5\n",
    "p = 25\n",
    "std_list = []\n",
    "\n",
    "for i in range(len(sample_sizes)):\n",
    "    std = getPercentileStddev('SAT_Participation_CT.csv', col_index, sample_sizes[i], num_trials, p)\n",
    "    std_list.append(std)\n",
    "\n",
    "print(std_list)\n",
    "\n",
    "import matplotlib.pyplot as plt\n",
    "\n",
    "fig4, ax4 = plt.subplots()\n",
    "ax4.errorbar(x=sample_sizes, y=std_list)\n",
    "plt.show()"
   ]
  },
  {
   "cell_type": "markdown",
   "metadata": {
    "deletable": false,
    "editable": false,
    "nbgrader": {
     "grade": false,
     "locked": true,
     "solution": false
    }
   },
   "source": [
    "(c) Repeat Q4a (using 10 trials) but estimate the 75th percentile of standard deviation."
   ]
  },
  {
   "cell_type": "code",
   "execution_count": 102,
   "metadata": {},
   "outputs": [
    {
     "name": "stdout",
     "output_type": "stream",
     "text": [
      "[31.499533889226182, 38.03800035297361, 31.413110944025888, 30.339451338737586, 29.069376945065684, 27.096653062269475, 25.499616317285557]\n"
     ]
    },
    {
     "data": {
      "image/png": "[encoded data removed]",
      "text/plain": [
       "<Figure size 432x288 with 1 Axes>"
      ]
     },
     "metadata": {},
     "output_type": "display_data"
    }
   ],
   "source": [
    "sample_sizes = [10, 25, 50, 75, 100, 150, 185]\n",
    "num_trials = 10\n",
    "col_index = 5\n",
    "p = 75\n",
    "std_list = []\n",
    "\n",
    "for i in range(len(sample_sizes)):\n",
    "    std = getPercentileStddev('SAT_Participation_CT.csv', col_index, sample_sizes[i], num_trials, p)\n",
    "    std_list.append(std)\n",
    "\n",
    "print(std_list)\n",
    "\n",
    "import matplotlib.pyplot as plt\n",
    "\n",
    "fig5, ax5 = plt.subplots()\n",
    "plt.plot(sample_sizes, std_list)\n",
    "plt.show()"
   ]
  },
  {
   "cell_type": "markdown",
   "metadata": {
    "deletable": false,
    "editable": false,
    "nbgrader": {
     "grade": false,
     "locked": true,
     "solution": false
    }
   },
   "source": [
    "(d) Repeat Q4c but use 100 trials. Note the difference."
   ]
  },
  {
   "cell_type": "code",
   "execution_count": 53,
   "metadata": {},
   "outputs": [
    {
     "name": "stdout",
     "output_type": "stream",
     "text": [
      "[29.106624230482144, 29.167965788648086, 29.651761892401872, 28.98520045337618, 27.848465982737096, 26.875403482259465, 25.49823125779946]\n"
     ]
    },
    {
     "data": {
      "image/png": "[encoded data removed]",
      "text/plain": [
       "<Figure size 432x288 with 1 Axes>"
      ]
     },
     "metadata": {},
     "output_type": "display_data"
    }
   ],
   "source": [
    "sample_sizes = [10, 25, 50, 75, 100, 150, 185]\n",
    "num_trials = 100\n",
    "col_index = 5\n",
    "p = 75\n",
    "std_list = []\n",
    "\n",
    "for i in range(len(sample_sizes)):\n",
    "    std = getPercentileStddev('SAT_Participation_CT.csv', col_index, sample_sizes[i], num_trials, p)\n",
    "    std_list.append(std)\n",
    "\n",
    "print(std_list)\n",
    "\n",
    "import matplotlib.pyplot as plt\n",
    "\n",
    "fig6, ax6 = plt.subplots()\n",
    "plt.plot(sample_sizes, std_list)\n",
    "plt.show()"
   ]
  },
  {
   "cell_type": "markdown",
   "metadata": {
    "deletable": false,
    "editable": false,
    "nbgrader": {
     "grade": false,
     "locked": true,
     "solution": false
    }
   },
   "source": [
    "## Q5: Transform attribute values"
   ]
  },
  {
   "cell_type": "markdown",
   "metadata": {
    "deletable": false,
    "editable": false,
    "nbgrader": {
     "grade": false,
     "locked": true,
     "solution": false
    }
   },
   "source": [
    "i. Read data in from a specified comma-separated text file with header, store in data frame. \n",
    "ii. Transform the values of the column with specified column index, by subtracting the column mean and dividing by the column standard deviation. \n",
    "iii. Return the transformed values as a Pandas Series."
   ]
  },
  {
   "cell_type": "code",
   "execution_count": 59,
   "metadata": {},
   "outputs": [
    {
     "data": {
      "text/plain": [
       "0     -0.703558\n",
       "1     -0.388243\n",
       "2     -0.151756\n",
       "3     -0.427657\n",
       "4      0.242388\n",
       "5      4.262661\n",
       "6      0.281803\n",
       "7      0.124145\n",
       "8      0.400046\n",
       "9     -0.703558\n",
       "10    -1.294775\n",
       "11    -0.427657\n",
       "12    -0.624729\n",
       "13    -0.388243\n",
       "14    -0.585315\n",
       "15    -0.664144\n",
       "16     0.597118\n",
       "17    -0.348828\n",
       "18     0.202974\n",
       "19    -0.269999\n",
       "20    -0.033513\n",
       "21    -0.072927\n",
       "22    -1.097703\n",
       "23     0.281803\n",
       "24    -0.545900\n",
       "25    -0.821802\n",
       "26    -0.309414\n",
       "27    -0.348828\n",
       "28     0.084731\n",
       "29     0.281803\n",
       "         ...   \n",
       "157    0.400046\n",
       "158    0.321217\n",
       "159    3.001399\n",
       "160    2.489011\n",
       "161    1.070091\n",
       "162   -0.112342\n",
       "163    0.045316\n",
       "164   -1.176531\n",
       "165    0.124145\n",
       "166    0.124145\n",
       "167   -0.585315\n",
       "168   -0.151756\n",
       "169   -1.058288\n",
       "170   -0.072927\n",
       "171   -2.556037\n",
       "172   -0.388243\n",
       "173   -0.545900\n",
       "174   -0.900630\n",
       "175    2.055452\n",
       "176    2.252525\n",
       "177    0.754776\n",
       "178    0.675947\n",
       "179    0.321217\n",
       "180   -0.427657\n",
       "181   -1.215946\n",
       "182   -0.348828\n",
       "183   -0.348828\n",
       "184   -0.664144\n",
       "185   -0.624729\n",
       "186    0.005902\n",
       "Name: Test-takers: Change, Length: 187, dtype: float64"
      ]
     },
     "execution_count": 59,
     "metadata": {},
     "output_type": "execute_result"
    }
   ],
   "source": [
    "# standardize(filename, columnIndex) takes as input the filename to read in data \n",
    "# from, and the column index specifying which values to transform. Returns the \n",
    "# standardized column values as a Pandas Series object (column from DataFrame).\n",
    "#\n",
    "\n",
    "def standardize(filename, columnIndex):\n",
    "    \n",
    "    data = pd.read_csv(filename)\n",
    "    data.iloc[:,columnIndex] = (data.iloc[:,columnIndex]-data.iloc[:,columnIndex].mean())/data.iloc[:,columnIndex].std()\n",
    "    standardized_colum_series = pd.Series(data.iloc[:,columnIndex])\n",
    "    return(standardized_colum_series)\n",
    "\n",
    "# For example,\n",
    "standardize('SAT_Participation_CT.csv', 5) # -> standardized_col\n",
    "# 0     -0.703558\n",
    "# 1     -0.388243\n",
    "# 2     -0.151756\n",
    "# ...\n",
    "# 185   -0.624729\n",
    "# 186    0.005902\n"
   ]
  },
  {
   "cell_type": "code",
   "execution_count": null,
   "metadata": {
    "collapsed": true,
    "deletable": false,
    "editable": false,
    "nbgrader": {
     "grade": true,
     "grade_id": "Q5",
     "locked": true,
     "points": "2",
     "solution": false
    }
   },
   "outputs": [],
   "source": [
    "###\n",
    "### AUTOGRADER TEST - DO NOT REMOVE\n",
    "###\n"
   ]
  },
  {
   "cell_type": "markdown",
   "metadata": {
    "deletable": false,
    "editable": false,
    "nbgrader": {
     "grade": false,
     "locked": true,
     "solution": false
    }
   },
   "source": [
    "## Q6 (2 pts)"
   ]
  },
  {
   "cell_type": "markdown",
   "metadata": {
    "deletable": false,
    "editable": false,
    "nbgrader": {
     "grade": false,
     "locked": true,
     "solution": false
    }
   },
   "source": [
    "(a) Create a density plot for values in a specified column:\n",
    "    i.  Consider the file 'SAT_Participation_CT.csv'. \n",
    "    ii. Plot the density of (all) the values in the fifth column. "
   ]
  },
  {
   "cell_type": "code",
   "execution_count": 64,
   "metadata": {},
   "outputs": [
    {
     "data": {
      "text/plain": [
       "<matplotlib.axes._subplots.AxesSubplot at 0x7f8a5c5528d0>"
      ]
     },
     "execution_count": 64,
     "metadata": {},
     "output_type": "execute_result"
    },
    {
     "data": {
      "image/png": "[encoded data removed]",
      "text/plain": [
       "<Figure size 360x360 with 1 Axes>"
      ]
     },
     "metadata": {},
     "output_type": "display_data"
    }
   ],
   "source": [
    "data = pd.read_csv('SAT_Participation_CT.csv')\n",
    "fifth_column = data.iloc[:,5]\n",
    "fifth_column.plot(kind=\"density\",figsize=(5,5)) "
   ]
  },
  {
   "cell_type": "markdown",
   "metadata": {
    "deletable": false,
    "editable": false,
    "nbgrader": {
     "grade": false,
     "locked": true,
     "solution": false
    }
   },
   "source": [
    "(b) Repeat Q5a but standardize the values in the fifth column before plotting the density. Note the difference in location and/or scale. "
   ]
  },
  {
   "cell_type": "code",
   "execution_count": 61,
   "metadata": {},
   "outputs": [
    {
     "data": {
      "text/plain": [
       "<matplotlib.axes._subplots.AxesSubplot at 0x7f8a5e707908>"
      ]
     },
     "execution_count": 61,
     "metadata": {},
     "output_type": "execute_result"
    },
    {
     "data": {
      "image/png": "[encoded data removed]",
      "text/plain": [
       "<Figure size 360x360 with 1 Axes>"
      ]
     },
     "metadata": {},
     "output_type": "display_data"
    }
   ],
   "source": [
    "fifth_column_std = standardize('SAT_Participation_CT.csv', 5)\n",
    "fifth_column_std.plot(kind=\"density\",figsize=(5,5)) \n",
    "# Compared to Q6(a) the scale of the desity plot is apparently smaller, ranging from approximately -7.5 to 10"
   ]
  },
  {
   "cell_type": "markdown",
   "metadata": {
    "deletable": false,
    "editable": false,
    "nbgrader": {
     "grade": false,
     "locked": true,
     "solution": false
    }
   },
   "source": [
    "## Q7: Confidence intervals"
   ]
  },
  {
   "cell_type": "markdown",
   "metadata": {
    "deletable": false,
    "editable": false,
    "nbgrader": {
     "grade": false,
     "locked": true,
     "solution": false
    }
   },
   "source": [
    "i. Consider the file 'bush-gore-results-fl.csv'. \n",
    "ii. Randomly sample 30 counties (i.e., rows) without replacement using the specified sample size, and set random_state = 10.\n",
    "iii. For each of the specified candidates (i.e., column names), calculate the mean number of votes obtained by the candidate.\n",
    "iv. For each of the candidates, calcuate a confidence interval, with the specified percentage, for the estimated mean. \n",
    "v. Return a list of CIs in order for the specified candidates.\n"
   ]
  },
  {
   "cell_type": "code",
   "execution_count": 88,
   "metadata": {},
   "outputs": [
    {
     "data": {
      "text/plain": [
       "[(103.68845461817915, 330.51154538182084),\n",
       " (2.501899878450637, 9.96476678821603),\n",
       " (4.860537116980019, 67.20612954968664)]"
      ]
     },
     "execution_count": 88,
     "metadata": {},
     "output_type": "execute_result"
    }
   ],
   "source": [
    "# getCIs(filename, candidates, sampleSize, ciPercent) takes as input the filename \n",
    "# to read in data from, a list of candidates, sample size, and CI percentage. \n",
    "# Returns a list of calculated CIs in the order of the specified candidates.\n",
    "#\n",
    "\n",
    "randomState = 10\n",
    "\n",
    "def getCIs(filename, candidates, sampleSize, ciPercent):\n",
    "    \n",
    "    CI_list=[]\n",
    "    data = pd.read_csv(filename)\n",
    "    MeanVotes = data.loc[:,candidates].sample(sampleSize, random_state=randomState).mean()\n",
    "    StdVotes = data.loc[:,candidates].sample(sampleSize, random_state=randomState).std()\n",
    "    stdErr = StdVotes / np.sqrt(sampleSize)\n",
    "    for i in range(len(MeanVotes)):\n",
    "        ci = sp.stats.norm.interval(ciPercent, loc = MeanVotes[i], scale = stdErr[i])\n",
    "        CI_list.append(ci)\n",
    "    return(CI_list)\n",
    "    ###\n",
    "    \n",
    "# For example,\n",
    "\n",
    "getCIs('bush-gore-results-fl.csv', ['brow', 'harr', 'hage'], 30, 0.95)\n",
    "# -> \n",
    "# [(103.68845461817915, 330.51154538182084),\n",
    "# (2.501899878450637, 9.96476678821603),\n",
    "# (4.860537116980019, 67.20612954968664)]\n"
   ]
  },
  {
   "cell_type": "code",
   "execution_count": null,
   "metadata": {
    "collapsed": true,
    "deletable": false,
    "editable": false,
    "nbgrader": {
     "grade": true,
     "grade_id": "Q7_1",
     "locked": true,
     "points": "1",
     "solution": false
    }
   },
   "outputs": [],
   "source": [
    "###\n",
    "### AUTOGRADER TEST - DO NOT REMOVE\n",
    "###\n"
   ]
  },
  {
   "cell_type": "code",
   "execution_count": null,
   "metadata": {
    "collapsed": true,
    "deletable": false,
    "editable": false,
    "nbgrader": {
     "grade": true,
     "grade_id": "Q7_2",
     "locked": true,
     "points": "1",
     "solution": false
    }
   },
   "outputs": [],
   "source": [
    "###\n",
    "### AUTOGRADER TEST - DO NOT REMOVE\n",
    "###\n"
   ]
  },
  {
   "cell_type": "markdown",
   "metadata": {
    "deletable": false,
    "editable": false,
    "nbgrader": {
     "grade": false,
     "locked": true,
     "solution": false
    }
   },
   "source": [
    "## Q8 (2 pts)"
   ]
  },
  {
   "cell_type": "markdown",
   "metadata": {
    "deletable": false,
    "editable": false,
    "nbgrader": {
     "grade": false,
     "locked": true,
     "solution": false
    }
   },
   "source": [
    "(a) Create a bar plot for the vote means of the specified candidates and show the CIs using errorbars:\n",
    "    i.  Consider the file 'bush-gore-results-fl.csv'.\n",
    "    ii. Consider the candidates: ['brow', 'harr', 'hage', 'buch', 'mcre', 'phil', 'moor']. \n",
    "    iii.Sample 30 counties and calculate vote means and 95% confidence intervals. \n",
    "    iv. Plot the results as a bar plot with error bars to show the CIs. "
   ]
  },
  {
   "cell_type": "code",
   "execution_count": 106,
   "metadata": {},
   "outputs": [
    {
     "data": {
      "text/plain": [
       "<matplotlib.axes._subplots.AxesSubplot at 0x7f8a5c29b748>"
      ]
     },
     "execution_count": 106,
     "metadata": {},
     "output_type": "execute_result"
    },
    {
     "data": {
      "image/png": "[encoded data removed]",
      "text/plain": [
       "<Figure size 432x288 with 1 Axes>"
      ]
     },
     "metadata": {},
     "output_type": "display_data"
    }
   ],
   "source": [
    "filename = 'bush-gore-results-fl.csv'\n",
    "candidates = ['brow', 'harr', 'hage', 'buch', 'mcre', 'phil', 'moor']\n",
    "sampleSize = 30\n",
    "ciPercent = 0.95\n",
    "randomState = 10\n",
    "\n",
    "data = pd.read_csv(filename)\n",
    "data2 = data.sample(sampleSize,random_state=randomState)\n",
    "colNames = candidates\n",
    "colMeans = []\n",
    "colStd = []\n",
    "colStdErr = []\n",
    "for col in colNames:\n",
    "    colMeans.append(data2[col].mean())\n",
    "    colStd.append(data2[col].std())\n",
    "    colStdErr.append(data2[col].sem())\n",
    "tmpDf = pd.DataFrame(colMeans, index=candidates)\n",
    "tmpDf.plot.bar(yerr=colStdErr)\n"
   ]
  },
  {
   "cell_type": "markdown",
   "metadata": {
    "deletable": false,
    "editable": false,
    "nbgrader": {
     "grade": false,
     "locked": true,
     "solution": false
    }
   },
   "source": [
    "(b) Repeat Q8a for the following candidates: ['bush', 'gore', 'nade']"
   ]
  },
  {
   "cell_type": "code",
   "execution_count": 104,
   "metadata": {},
   "outputs": [
    {
     "name": "stdout",
     "output_type": "stream",
     "text": [
      "[9267.695873267907, 9010.367709858363, 421.2693782393228]\n"
     ]
    },
    {
     "data": {
      "text/plain": [
       "<matplotlib.axes._subplots.AxesSubplot at 0x7f8a60cce0f0>"
      ]
     },
     "execution_count": 104,
     "metadata": {},
     "output_type": "execute_result"
    },
    {
     "data": {
      "image/png": "[encoded data removed]",
      "text/plain": [
       "<Figure size 432x288 with 1 Axes>"
      ]
     },
     "metadata": {},
     "output_type": "display_data"
    }
   ],
   "source": [
    "candidates = ['bush', 'gore', 'nade']\n",
    "filename = 'bush-gore-results-fl.csv'\n",
    "sampleSize = 30\n",
    "ciPercent = 0.95\n",
    "randomState = 10\n",
    "\n",
    "data = pd.read_csv(filename)\n",
    "data2 = data.sample(sampleSize,random_state=randomState)\n",
    "colNames = candidates\n",
    "colMeans = []\n",
    "colStd = []\n",
    "colStdErr = []\n",
    "for col in colNames:\n",
    "    colMeans.append(data2[col].mean())\n",
    "    colStd.append(data2[col].std())\n",
    "    colStdErr.append(data2[col].sem())\n",
    "print(colStdErr)\n",
    "tmpDf = pd.DataFrame(colMeans, index=candidates)\n",
    "tmpDf.plot.bar(yerr=colStdErr)"
   ]
  }
 ],
 "metadata": {
  "kernelspec": {
   "display_name": "Python 3.5",
   "language": "python",
   "name": "python35"
  },
  "language_info": {
   "codemirror_mode": {
    "name": "ipython",
    "version": 3
   },
   "file_extension": ".py",
   "mimetype": "text/x-python",
   "name": "python",
   "nbconvert_exporter": "python",
   "pygments_lexer": "ipython3",
   "version": "3.5.2"
  }
 },
 "nbformat": 4,
 "nbformat_minor": 2
}
